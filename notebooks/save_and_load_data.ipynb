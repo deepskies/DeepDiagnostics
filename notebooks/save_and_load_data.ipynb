{
 "cells": [
  {
   "cell_type": "markdown",
   "id": "7601f39a-b3bf-4f55-82bc-d3ec40e5a38e",
   "metadata": {},
   "source": [
    "# Save and load data\n",
    "Utilize a prior and a simulator to create said dataset. Save a proportion as a training set, and part as a validation set. Then, run SBI using this static training set. An alternate way to run SBI using a simulator to generate data on the fly is demonstrated in the `train_SBI.ipynb` tutorial."
   ]
  },
  {
   "cell_type": "code",
   "execution_count": 1,
   "id": "d0030c2f-0f2f-4426-9eb1-86cbe83510d8",
   "metadata": {},
   "outputs": [],
   "source": [
    "import numpy as np\n",
    "import matplotlib.pyplot as plt\n",
    "import matplotlib\n",
    "# remove top and right axis from plots\n",
    "matplotlib.rcParams[\"axes.spines.right\"] = False\n",
    "matplotlib.rcParams[\"axes.spines.top\"] = False"
   ]
  },
  {
   "cell_type": "code",
   "execution_count": 2,
   "id": "4b02d2c4-e28e-4cbc-8244-d4906cea7079",
   "metadata": {},
   "outputs": [],
   "source": [
    "import sbi\n",
    "from sbi.inference import SNPE\n",
    "from sbi.inference.base import infer\n",
    "from sbi.analysis import pairplot\n",
    "import torch"
   ]
  },
  {
   "cell_type": "code",
   "execution_count": 3,
   "id": "e5980d55-247f-4f78-b3c3-3dde9025d346",
   "metadata": {},
   "outputs": [],
   "source": [
    "from scripts.io import DataLoader, ModelLoader"
   ]
  },
  {
   "cell_type": "code",
   "execution_count": 4,
   "id": "5782898a-caae-4141-a972-070944fb7f93",
   "metadata": {},
   "outputs": [],
   "source": [
    "def simulator(thetas):#, percent_errors):\n",
    "    # convert to numpy array (if tensor):\n",
    "    thetas = np.atleast_2d(thetas)\n",
    "    # Check if the input has the correct shape\n",
    "    if thetas.shape[1] != 2:\n",
    "        raise ValueError(\"Input tensor must have shape (n, 2) where n is the number of parameter sets.\")\n",
    "\n",
    "    # Unpack the parameters\n",
    "    if thetas.shape[0] == 1:\n",
    "        # If there's only one set of parameters, extract them directly\n",
    "        m, b = thetas[0, 0], thetas[0, 1]\n",
    "    else:\n",
    "        # If there are multiple sets of parameters, extract them for each row\n",
    "        m, b = thetas[:, 0], thetas[:, 1]\n",
    "    x = np.linspace(0, 100, 101)\n",
    "    rs = np.random.RandomState()#2147483648)# \n",
    "    # I'm thinking sigma could actually be a function of x\n",
    "    # if we want to get fancy down the road\n",
    "    # Generate random noise (epsilon) based on a normal distribution with mean 0 and standard deviation sigma\n",
    "    sigma = 5\n",
    "    ε = rs.normal(loc=0, scale=sigma, size=(len(x), thetas.shape[0]))\n",
    "    \n",
    "    # Initialize an empty array to store the results for each set of parameters\n",
    "    y = np.zeros((len(x), thetas.shape[0]))\n",
    "    for i in range(thetas.shape[0]):\n",
    "        m, b = thetas[i, 0], thetas[i, 1]\n",
    "        y[:, i] = m * x + b + ε[:, i]\n",
    "    return torch.Tensor(y.T)"
   ]
  },
  {
   "cell_type": "code",
   "execution_count": 5,
   "id": "4d35f73f-01a1-4e30-a717-adb81a21849a",
   "metadata": {},
   "outputs": [],
   "source": [
    "low_bounds = torch.tensor([0, -10])\n",
    "high_bounds = torch.tensor([10, 10])\n",
    "\n",
    "prior = sbi.utils.BoxUniform(low = low_bounds, high = high_bounds)"
   ]
  },
  {
   "cell_type": "markdown",
   "id": "734a48cb-1874-4705-b8f7-66e39888fd72",
   "metadata": {},
   "source": [
    "To create the training set, sample from this prior and run it through the simulator."
   ]
  },
  {
   "cell_type": "code",
   "execution_count": 6,
   "id": "561950b0-d037-4d09-910e-7c80331273f8",
   "metadata": {},
   "outputs": [
    {
     "name": "stdout",
     "output_type": "stream",
     "text": [
      "$\\theta$s tensor([[ 3.0800, -4.7952],\n",
      "        [ 1.8481,  6.3294],\n",
      "        [ 4.0461,  2.8588],\n",
      "        ...,\n",
      "        [ 8.1919, -1.6658],\n",
      "        [ 5.0935,  0.3070],\n",
      "        [ 4.0631,  9.8509]]) xs tensor([[-8.5266e+00, -1.8273e+00, -1.1451e+00,  ...,  2.9787e+02,\n",
      "          3.0003e+02,  3.1156e+02],\n",
      "        [ 1.1926e+01,  6.5993e+00,  5.1448e+00,  ...,  1.8203e+02,\n",
      "          1.8708e+02,  1.8575e+02],\n",
      "        [-4.1232e-01,  1.1292e+01,  1.0386e+01,  ...,  3.9838e+02,\n",
      "          4.0421e+02,  4.0578e+02],\n",
      "        ...,\n",
      "        [-1.4934e+00,  1.5889e+01,  1.6708e+01,  ...,  8.0203e+02,\n",
      "          8.0764e+02,  8.1931e+02],\n",
      "        [ 1.0923e+01,  6.6249e+00,  1.7376e+01,  ...,  5.0127e+02,\n",
      "          5.0772e+02,  5.1401e+02],\n",
      "        [ 9.2832e+00,  1.3263e+01,  2.0634e+01,  ...,  4.1520e+02,\n",
      "          4.1219e+02,  4.0914e+02]])\n"
     ]
    }
   ],
   "source": [
    "params = prior.sample((10000,))\n",
    "xs = simulator(params)\n",
    "print(r'$\\theta$s', params, 'xs', xs)"
   ]
  },
  {
   "cell_type": "code",
   "execution_count": 7,
   "id": "5b6fff5d-87a0-4456-a915-2ffec3c0812d",
   "metadata": {},
   "outputs": [],
   "source": [
    "# Save both params and xs to a .pkl file\n",
    "data_to_save = {'thetas': params, 'xs': xs}\n",
    "dataloader = DataLoader()\n",
    "dataloader.save_data_h5('data_train',\n",
    "                         data_to_save,\n",
    "                         path = '../saveddata/')"
   ]
  },
  {
   "cell_type": "markdown",
   "id": "c56d415e-a5e7-4abb-86e3-a69e206a9d2c",
   "metadata": {},
   "source": [
    "Redo this with a validation set that is the same size."
   ]
  },
  {
   "cell_type": "code",
   "execution_count": 8,
   "id": "8275530a-bc1b-46e1-99aa-5d5ddbba0bfe",
   "metadata": {},
   "outputs": [
    {
     "name": "stdout",
     "output_type": "stream",
     "text": [
      "$\\theta$s tensor([[ 8.6844, -7.0421],\n",
      "        [ 3.0001, -5.9178],\n",
      "        [ 8.5659, -7.1641],\n",
      "        ...,\n",
      "        [ 4.7512, -6.2531],\n",
      "        [ 8.1654, -1.4571],\n",
      "        [ 1.2068,  3.5740]]) xs tensor([[-1.6683e+00,  5.4582e+00,  1.9455e+01,  ...,  8.4058e+02,\n",
      "          8.4980e+02,  8.6225e+02],\n",
      "        [-2.8954e+00, -1.2797e+01,  1.1486e+00,  ...,  2.9071e+02,\n",
      "          2.8894e+02,  2.9775e+02],\n",
      "        [-1.0352e+00, -1.2929e+00,  1.2169e+01,  ...,  8.3395e+02,\n",
      "          8.3806e+02,  8.4531e+02],\n",
      "        ...,\n",
      "        [-3.2291e-01, -1.4686e+01,  9.0462e+00,  ...,  4.5691e+02,\n",
      "          4.6361e+02,  4.6903e+02],\n",
      "        [-7.1130e+00,  5.8362e+00,  8.4475e+00,  ...,  8.0142e+02,\n",
      "          8.1157e+02,  8.0876e+02],\n",
      "        [-4.1383e+00, -4.4619e+00,  1.4715e+01,  ...,  1.2880e+02,\n",
      "          1.3755e+02,  1.1952e+02]])\n"
     ]
    }
   ],
   "source": [
    "params_valid = prior.sample((10000,))\n",
    "xs_valid = simulator(params_valid)\n",
    "print(r'$\\theta$s', params_valid, 'xs', xs_valid)"
   ]
  },
  {
   "cell_type": "code",
   "execution_count": 9,
   "id": "fc9f3c22-8317-4f76-b860-43cac495d529",
   "metadata": {},
   "outputs": [],
   "source": [
    "# Save both params and xs to a .pkl file\n",
    "data_to_save_valid = {'thetas': params_valid, 'xs': xs_valid}\n",
    "\n",
    "dataloader.save_data_h5('data_validation',\n",
    "                         data_to_save_valid,\n",
    "                         path = '../saveddata/')"
   ]
  },
  {
   "cell_type": "markdown",
   "id": "7844698f-1b62-4113-b5d9-1b6b1c7e258c",
   "metadata": {},
   "source": [
    "## Now load up this data and run SBI using it"
   ]
  },
  {
   "cell_type": "code",
   "execution_count": 10,
   "id": "7c2dfe9f-d2e2-4a9e-8fd8-ad7aff7bd228",
   "metadata": {},
   "outputs": [],
   "source": [
    "train_h5 = dataloader.load_data_h5(\n",
    "                         'data_train',\n",
    "                        '../saveddata/',)"
   ]
  },
  {
   "cell_type": "code",
   "execution_count": 11,
   "id": "3bcc3421-25f7-4cd6-bf64-d05fa0df1c25",
   "metadata": {},
   "outputs": [
    {
     "name": "stdout",
     "output_type": "stream",
     "text": [
      "{'thetas': tensor([[ 3.0800, -4.7952],\n",
      "        [ 1.8481,  6.3294],\n",
      "        [ 4.0461,  2.8588],\n",
      "        ...,\n",
      "        [ 8.1919, -1.6658],\n",
      "        [ 5.0935,  0.3070],\n",
      "        [ 4.0631,  9.8509]]), 'xs': tensor([[-8.5266e+00, -1.8273e+00, -1.1451e+00,  ...,  2.9787e+02,\n",
      "          3.0003e+02,  3.1156e+02],\n",
      "        [ 1.1926e+01,  6.5993e+00,  5.1448e+00,  ...,  1.8203e+02,\n",
      "          1.8708e+02,  1.8575e+02],\n",
      "        [-4.1232e-01,  1.1292e+01,  1.0386e+01,  ...,  3.9838e+02,\n",
      "          4.0421e+02,  4.0578e+02],\n",
      "        ...,\n",
      "        [-1.4934e+00,  1.5889e+01,  1.6708e+01,  ...,  8.0203e+02,\n",
      "          8.0764e+02,  8.1931e+02],\n",
      "        [ 1.0923e+01,  6.6249e+00,  1.7376e+01,  ...,  5.0127e+02,\n",
      "          5.0772e+02,  5.1401e+02],\n",
      "        [ 9.2832e+00,  1.3263e+01,  2.0634e+01,  ...,  4.1520e+02,\n",
      "          4.1219e+02,  4.0914e+02]])}\n"
     ]
    }
   ],
   "source": [
    "print(train_h5)"
   ]
  },
  {
   "cell_type": "code",
   "execution_count": 12,
   "id": "835b93f4-6f7d-4b18-82b2-3d74213fc532",
   "metadata": {},
   "outputs": [
    {
     "name": "stdout",
     "output_type": "stream",
     "text": [
      " Neural network successfully converged after 104 epochs."
     ]
    }
   ],
   "source": [
    "# instantiate the neural density estimator\n",
    "neural_posterior = sbi.utils.posterior_nn(model='maf')\n",
    "\n",
    "'''\n",
    "model,\n",
    "                                  embedding_net=embedding_net,\n",
    "                                  hidden_features=hidden_features,\n",
    "                                  num_transforms=num_transforms)\n",
    "'''\n",
    "\n",
    "#from me:\n",
    "#infer(simulator, prior, \"SNPE\", num_simulations=10000)\n",
    "\n",
    "low_bounds = torch.tensor([0, -10])\n",
    "high_bounds = torch.tensor([10, 10])\n",
    "\n",
    "prior = sbi.utils.BoxUniform(low = low_bounds, high = high_bounds)\n",
    "\n",
    "# setup the inference procedure with the SNPE-C procedure\n",
    "inference = SNPE(prior=prior, density_estimator=neural_posterior, device=\"cpu\")\n",
    "\n",
    "\n",
    "density_estimator = inference.append_simulations(train_h5['thetas'],\n",
    "                                                 train_h5['xs']).train()\n",
    "posterior = inference.build_posterior(density_estimator)"
   ]
  },
  {
   "cell_type": "code",
   "execution_count": null,
   "id": "ef901ae9-d074-472d-a99f-e2afd8ec1a05",
   "metadata": {},
   "outputs": [],
   "source": [
    "modelloader = ModelLoader()\n",
    "path = \"../savedmodels/sbi/\"\n",
    "model_name = \"sbi_linear_from_data\"\n",
    "modelloader.save_model_pkl(path, model_name, posterior)"
   ]
  },
  {
   "cell_type": "code",
   "execution_count": null,
   "id": "f8803927-2642-42ec-abc2-6871869dbeda",
   "metadata": {},
   "outputs": [],
   "source": [
    "# generate a true dataset\n",
    "theta_true = [1, 5]\n",
    "y_true = simulator(theta_true)\n",
    "\n",
    "# and visualize it\n",
    "plt.clf()\n",
    "plt.scatter(np.linspace(0, 100, 101),\n",
    "            np.array(y_true), color = 'black')\n",
    "plt.xlabel('x')\n",
    "plt.ylabel('y')\n",
    "plt.show()"
   ]
  },
  {
   "cell_type": "code",
   "execution_count": null,
   "id": "b86aeb37-d8cf-4354-b441-45b0294268bb",
   "metadata": {},
   "outputs": [],
   "source": [
    "# sample from the posterior\n",
    "posterior_samples_1 = posterior.sample((10000,), x = y_true)\n",
    "# that last little part is conditioning on a data value\n",
    "# plot posterior samples\n",
    "fig, axes = sbi.analysis.pairplot(\n",
    "    posterior_samples_1, \n",
    "    labels = ['m', 'b'],\n",
    "    #limits = [[0,10],[-10,10],[0,10]],\n",
    "    truths = theta_true,\n",
    "    figsize=(5, 5)\n",
    ")\n",
    "axes[0, 1].plot([theta_true[1]], [theta_true[0]], marker=\"o\", color=\"red\")"
   ]
  },
  {
   "cell_type": "code",
   "execution_count": null,
   "id": "2790962d-e1a8-4f3f-ac2a-cf4c2fa17101",
   "metadata": {},
   "outputs": [],
   "source": []
  }
 ],
 "metadata": {
  "kernelspec": {
   "display_name": "Python 3 (ipykernel)",
   "language": "python",
   "name": "python3"
  },
  "language_info": {
   "codemirror_mode": {
    "name": "ipython",
    "version": 3
   },
   "file_extension": ".py",
   "mimetype": "text/x-python",
   "name": "python",
   "nbconvert_exporter": "python",
   "pygments_lexer": "ipython3",
   "version": "3.9.12"
  }
 },
 "nbformat": 4,
 "nbformat_minor": 5
}
