{
 "cells": [
  {
   "cell_type": "markdown",
   "id": "7601f39a-b3bf-4f55-82bc-d3ec40e5a38e",
   "metadata": {},
   "source": [
    "# Save and load data\n",
    "Utilize a prior and a simulator to create said dataset. Save a proportion as a training set, and part as a validation set. Then, run SBI using this static training set. An alternate way to run SBI using a simulator to generate data on the fly is demonstrated in the `train_SBI.ipynb` tutorial."
   ]
  },
  {
   "cell_type": "code",
   "execution_count": 1,
   "id": "d0030c2f-0f2f-4426-9eb1-86cbe83510d8",
   "metadata": {},
   "outputs": [],
   "source": [
    "import numpy as np\n",
    "import matplotlib.pyplot as plt\n",
    "import matplotlib\n",
    "# remove top and right axis from plots\n",
    "matplotlib.rcParams[\"axes.spines.right\"] = False\n",
    "matplotlib.rcParams[\"axes.spines.top\"] = False"
   ]
  },
  {
   "cell_type": "code",
   "execution_count": 2,
   "id": "4b02d2c4-e28e-4cbc-8244-d4906cea7079",
   "metadata": {},
   "outputs": [],
   "source": [
    "import sbi\n",
    "from sbi.inference import SNPE\n",
    "from sbi.inference.base import infer\n",
    "from sbi.analysis import pairplot\n",
    "import torch"
   ]
  },
  {
   "cell_type": "code",
   "execution_count": 3,
   "id": "e5980d55-247f-4f78-b3c3-3dde9025d346",
   "metadata": {},
   "outputs": [],
   "source": [
    "from src.scripts.io import DataLoader, ModelLoader"
   ]
  },
  {
   "cell_type": "code",
   "execution_count": 4,
   "id": "5782898a-caae-4141-a972-070944fb7f93",
   "metadata": {},
   "outputs": [],
   "source": [
    "def simulator(thetas):#, percent_errors):\n",
    "    # convert to numpy array (if tensor):\n",
    "    thetas = np.atleast_2d(thetas)\n",
    "    # Check if the input has the correct shape\n",
    "    if thetas.shape[1] != 2:\n",
    "        raise ValueError(\"Input tensor must have shape (n, 2) where n is the number of parameter sets.\")\n",
    "\n",
    "    # Unpack the parameters\n",
    "    if thetas.shape[0] == 1:\n",
    "        # If there's only one set of parameters, extract them directly\n",
    "        m, b = thetas[0, 0], thetas[0, 1]\n",
    "    else:\n",
    "        # If there are multiple sets of parameters, extract them for each row\n",
    "        m, b = thetas[:, 0], thetas[:, 1]\n",
    "    x = np.linspace(0, 100, 101)\n",
    "    rs = np.random.RandomState()#2147483648)# \n",
    "    # I'm thinking sigma could actually be a function of x\n",
    "    # if we want to get fancy down the road\n",
    "    # Generate random noise (epsilon) based on a normal distribution with mean 0 and standard deviation sigma\n",
    "    sigma = 5\n",
    "    ε = rs.normal(loc=0, scale=sigma, size=(len(x), thetas.shape[0]))\n",
    "    \n",
    "    # Initialize an empty array to store the results for each set of parameters\n",
    "    y = np.zeros((len(x), thetas.shape[0]))\n",
    "    for i in range(thetas.shape[0]):\n",
    "        m, b = thetas[i, 0], thetas[i, 1]\n",
    "        y[:, i] = m * x + b + ε[:, i]\n",
    "    return torch.Tensor(y.T)"
   ]
  },
  {
   "cell_type": "code",
   "execution_count": 5,
   "id": "4d35f73f-01a1-4e30-a717-adb81a21849a",
   "metadata": {},
   "outputs": [],
   "source": [
    "num_dim = 2\n",
    "\n",
    "low_bounds = torch.tensor([0, -10])\n",
    "high_bounds = torch.tensor([10, 10])\n",
    "\n",
    "prior = sbi.utils.BoxUniform(low = low_bounds, high = high_bounds)"
   ]
  },
  {
   "cell_type": "markdown",
   "id": "734a48cb-1874-4705-b8f7-66e39888fd72",
   "metadata": {},
   "source": [
    "To create the training set, sample from this prior and run it through the simulator."
   ]
  },
  {
   "cell_type": "code",
   "execution_count": 6,
   "id": "561950b0-d037-4d09-910e-7c80331273f8",
   "metadata": {},
   "outputs": [
    {
     "name": "stdout",
     "output_type": "stream",
     "text": [
      "$\\theta$s tensor([[ 2.8840, -7.0975],\n",
      "        [ 6.8337, -5.9733],\n",
      "        [ 2.4926, -5.7297],\n",
      "        ...,\n",
      "        [ 7.2979, -0.9311],\n",
      "        [ 6.3926, -0.3290],\n",
      "        [ 6.3816,  3.8464]]) xs tensor([[-11.4556,   9.8369,   4.9505,  ..., 277.5564, 291.7433, 285.3736],\n",
      "        [-12.3848,   7.0872,  19.9406,  ..., 663.7286, 663.2328, 674.7347],\n",
      "        [  0.8212,   1.4636,  -7.0082,  ..., 242.6000, 236.7188, 244.5201],\n",
      "        ...,\n",
      "        [ -3.1995,   6.4203,  21.6573,  ..., 712.5668, 715.9341, 730.9291],\n",
      "        [ -3.1645,   6.0377,  15.8926,  ..., 622.5889, 629.9952, 634.9966],\n",
      "        [ 12.4576,  13.1750,  17.9107,  ..., 628.2657, 635.1102, 644.2883]])\n"
     ]
    }
   ],
   "source": [
    "params = prior.sample((10000,))\n",
    "xs = simulator(params)\n",
    "print(r'$\\theta$s', params, 'xs', xs)\n"
   ]
  },
  {
   "cell_type": "code",
   "execution_count": 8,
   "id": "5b6fff5d-87a0-4456-a915-2ffec3c0812d",
   "metadata": {},
   "outputs": [],
   "source": [
    "# Save both params and xs to a .pkl file\n",
    "data_to_save = {'thetas': params, 'xs': xs}\n",
    "\n",
    "dataloader = DataLoader()\n",
    "dataloader.save_data_pkl('data_train',\n",
    "                         data_to_save,\n",
    "                         path = '../saveddata/')"
   ]
  },
  {
   "cell_type": "markdown",
   "id": "c56d415e-a5e7-4abb-86e3-a69e206a9d2c",
   "metadata": {},
   "source": [
    "Redo this with a validation set that is the same size."
   ]
  },
  {
   "cell_type": "code",
   "execution_count": 9,
   "id": "8275530a-bc1b-46e1-99aa-5d5ddbba0bfe",
   "metadata": {},
   "outputs": [
    {
     "name": "stdout",
     "output_type": "stream",
     "text": [
      "$\\theta$s tensor([[ 8.3111, -3.2867],\n",
      "        [ 1.7166, -3.1525],\n",
      "        [ 7.9723, -0.7460],\n",
      "        ...,\n",
      "        [ 2.2330,  0.8710],\n",
      "        [ 1.7741,  2.2013],\n",
      "        [ 8.7931, -1.1207]]) xs tensor([[-6.5503e-01, -1.4921e+00,  4.9110e+00,  ...,  8.1405e+02,\n",
      "          8.2206e+02,  8.2703e+02],\n",
      "        [ 2.4441e+00, -6.9449e+00,  6.2681e+00,  ...,  1.7136e+02,\n",
      "          1.7441e+02,  1.7407e+02],\n",
      "        [-3.1070e+00, -8.2457e-01,  1.3257e+01,  ...,  7.7915e+02,\n",
      "          7.8097e+02,  7.9491e+02],\n",
      "        ...,\n",
      "        [-8.7920e-01, -3.1205e-01,  1.3718e+00,  ...,  2.1731e+02,\n",
      "          2.2758e+02,  2.3235e+02],\n",
      "        [ 5.3797e+00,  3.6299e+00,  1.3066e+01,  ...,  1.7667e+02,\n",
      "          1.8707e+02,  1.7228e+02],\n",
      "        [-3.1299e+00,  6.9778e+00,  1.9069e+01,  ...,  8.6182e+02,\n",
      "          8.7560e+02,  8.7489e+02]])\n"
     ]
    }
   ],
   "source": [
    "params_valid = prior.sample((10000,))\n",
    "xs_valid = simulator(params_valid)\n",
    "print(r'$\\theta$s', params_valid, 'xs', xs_valid)"
   ]
  },
  {
   "cell_type": "code",
   "execution_count": 10,
   "id": "fc9f3c22-8317-4f76-b860-43cac495d529",
   "metadata": {},
   "outputs": [],
   "source": [
    "# Save both params and xs to a .pkl file\n",
    "data_to_save_valid = {'thetas': params_valid, 'xs': xs_valid}\n",
    "\n",
    "dataloader.save_data_pkl('data_validation',\n",
    "                         data_to_save_valid,\n",
    "                         path = '../saveddata/')"
   ]
  },
  {
   "cell_type": "markdown",
   "id": "7844698f-1b62-4113-b5d9-1b6b1c7e258c",
   "metadata": {},
   "source": [
    "## Now load up this data and run SBI using it"
   ]
  },
  {
   "cell_type": "code",
   "execution_count": 11,
   "id": "7c2dfe9f-d2e2-4a9e-8fd8-ad7aff7bd228",
   "metadata": {},
   "outputs": [
    {
     "name": "stdout",
     "output_type": "stream",
     "text": [
      "../saveddata/\n"
     ]
    }
   ],
   "source": [
    "train_pkl = dataloader.load_data_pkl(\n",
    "                         'data_train',\n",
    "                        '../saveddata/',)"
   ]
  },
  {
   "cell_type": "code",
   "execution_count": 12,
   "id": "3bcc3421-25f7-4cd6-bf64-d05fa0df1c25",
   "metadata": {},
   "outputs": [
    {
     "name": "stdout",
     "output_type": "stream",
     "text": [
      "{'thetas': tensor([[ 2.8840, -7.0975],\n",
      "        [ 6.8337, -5.9733],\n",
      "        [ 2.4926, -5.7297],\n",
      "        ...,\n",
      "        [ 7.2979, -0.9311],\n",
      "        [ 6.3926, -0.3290],\n",
      "        [ 6.3816,  3.8464]]), 'xs': tensor([[-11.4556,   9.8369,   4.9505,  ..., 277.5564, 291.7433, 285.3736],\n",
      "        [-12.3848,   7.0872,  19.9406,  ..., 663.7286, 663.2328, 674.7347],\n",
      "        [  0.8212,   1.4636,  -7.0082,  ..., 242.6000, 236.7188, 244.5201],\n",
      "        ...,\n",
      "        [ -3.1995,   6.4203,  21.6573,  ..., 712.5668, 715.9341, 730.9291],\n",
      "        [ -3.1645,   6.0377,  15.8926,  ..., 622.5889, 629.9952, 634.9966],\n",
      "        [ 12.4576,  13.1750,  17.9107,  ..., 628.2657, 635.1102, 644.2883]])}\n"
     ]
    }
   ],
   "source": [
    "print(train_pkl)"
   ]
  },
  {
   "cell_type": "code",
   "execution_count": 13,
   "id": "835b93f4-6f7d-4b18-82b2-3d74213fc532",
   "metadata": {},
   "outputs": [
    {
     "name": "stdout",
     "output_type": "stream",
     "text": [
      " Neural network successfully converged after 58 epochs."
     ]
    }
   ],
   "source": [
    "# instantiate the neural density estimator\n",
    "neural_posterior = sbi.utils.posterior_nn(model='maf')\n",
    "\n",
    "'''\n",
    "model,\n",
    "                                  embedding_net=embedding_net,\n",
    "                                  hidden_features=hidden_features,\n",
    "                                  num_transforms=num_transforms)\n",
    "'''\n",
    "\n",
    "#from me:\n",
    "#infer(simulator, prior, \"SNPE\", num_simulations=10000)\n",
    "\n",
    "low_bounds = torch.tensor([0, -10])\n",
    "high_bounds = torch.tensor([10, 10])\n",
    "\n",
    "prior = sbi.utils.BoxUniform(low = low_bounds, high = high_bounds)\n",
    "\n",
    "# setup the inference procedure with the SNPE-C procedure\n",
    "inference = SNPE(prior=prior, density_estimator=neural_posterior, device=\"cpu\")\n",
    "\n",
    "\n",
    "density_estimator = inference.append_simulations(train_pkl['thetas'],train_pkl['xs']).train()\n",
    "posterior = inference.build_posterior(density_estimator)"
   ]
  },
  {
   "cell_type": "code",
   "execution_count": 14,
   "id": "ef901ae9-d074-472d-a99f-e2afd8ec1a05",
   "metadata": {},
   "outputs": [],
   "source": [
    "modelloader = ModelLoader()\n",
    "path = \"../savedmodels/sbi/\"\n",
    "model_name = \"sbi_linear_from_data\"\n",
    "modelloader.save_model_pkl(path, model_name, posterior)"
   ]
  },
  {
   "cell_type": "code",
   "execution_count": 15,
   "id": "f8803927-2642-42ec-abc2-6871869dbeda",
   "metadata": {},
   "outputs": [
    {
     "data": {
      "image/png": "[encoded data removed]",
      "text/plain": [
       "<Figure size 640x480 with 1 Axes>"
      ]
     },
     "metadata": {},
     "output_type": "display_data"
    }
   ],
   "source": [
    "# generate a true dataset\n",
    "theta_true = [1, 5]\n",
    "y_true = simulator(theta_true)\n",
    "\n",
    "# and visualize it\n",
    "plt.clf()\n",
    "plt.scatter(np.linspace(0, 100, 101),\n",
    "            np.array(y_true), color = 'black')\n",
    "plt.xlabel('x')\n",
    "plt.ylabel('y')\n",
    "plt.show()"
   ]
  },
  {
   "cell_type": "code",
   "execution_count": 16,
   "id": "b86aeb37-d8cf-4354-b441-45b0294268bb",
   "metadata": {},
   "outputs": [
    {
     "data": {
      "application/vnd.jupyter.widget-view+json": {
       "model_id": "09753364ed6247fca293e3efbe3d8a90",
       "version_major": 2,
       "version_minor": 0
      },
      "text/plain": [
       "Drawing 10000 posterior samples:   0%|          | 0/10000 [00:00<?, ?it/s]"
      ]
     },
     "metadata": {},
     "output_type": "display_data"
    },
    {
     "data": {
      "text/plain": [
       "[<matplotlib.lines.Line2D at 0x175b4a520>]"
      ]
     },
     "execution_count": 16,
     "metadata": {},
     "output_type": "execute_result"
    },
    {
     "data": {
      "image/png": "[encoded data removed]",
      "text/plain": [
       "<Figure size 500x500 with 4 Axes>"
      ]
     },
     "metadata": {},
     "output_type": "display_data"
    }
   ],
   "source": [
    "# sample from the posterior\n",
    "posterior_samples_1 = posterior.sample((10000,), x = y_true)\n",
    "# that last little part is conditioning on a data value\n",
    "# plot posterior samples\n",
    "fig, axes = sbi.analysis.pairplot(\n",
    "    posterior_samples_1, \n",
    "    labels = ['m', 'b'],\n",
    "    #limits = [[0,10],[-10,10],[0,10]],\n",
    "    truths = theta_true,\n",
    "    figsize=(5, 5)\n",
    ")\n",
    "axes[0, 1].plot([theta_true[1]], [theta_true[0]], marker=\"o\", color=\"red\")"
   ]
  },
  {
   "cell_type": "code",
   "execution_count": null,
   "id": "2790962d-e1a8-4f3f-ac2a-cf4c2fa17101",
   "metadata": {},
   "outputs": [],
   "source": []
  }
 ],
 "metadata": {
  "kernelspec": {
   "display_name": "Python 3 (ipykernel)",
   "language": "python",
   "name": "python3"
  },
  "language_info": {
   "codemirror_mode": {
    "name": "ipython",
    "version": 3
   },
   "file_extension": ".py",
   "mimetype": "text/x-python",
   "name": "python",
   "nbconvert_exporter": "python",
   "pygments_lexer": "ipython3",
   "version": "3.9.12"
  }
 },
 "nbformat": 4,
 "nbformat_minor": 5
}
