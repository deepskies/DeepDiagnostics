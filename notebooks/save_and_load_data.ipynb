{
 "cells": [
  {
   "cell_type": "markdown",
   "id": "7601f39a-b3bf-4f55-82bc-d3ec40e5a38e",
   "metadata": {},
   "source": [
    "# Save and load data\n",
    "Utilize a prior and a simulator to create said dataset. Save a proportion as a training set, and part as a validation set."
   ]
  },
  {
   "cell_type": "code",
   "execution_count": 1,
   "id": "d0030c2f-0f2f-4426-9eb1-86cbe83510d8",
   "metadata": {},
   "outputs": [],
   "source": [
    "import numpy as np\n",
    "import matplotlib.pyplot as plt\n",
    "import matplotlib\n",
    "# remove top and right axis from plots\n",
    "matplotlib.rcParams[\"axes.spines.right\"] = False\n",
    "matplotlib.rcParams[\"axes.spines.top\"] = False"
   ]
  },
  {
   "cell_type": "code",
   "execution_count": 2,
   "id": "4b02d2c4-e28e-4cbc-8244-d4906cea7079",
   "metadata": {},
   "outputs": [],
   "source": [
    "import sbi\n",
    "from sbi.inference import SNPE\n",
    "from sbi.inference.base import infer\n",
    "from sbi.analysis import pairplot\n",
    "import torch"
   ]
  },
  {
   "cell_type": "code",
   "execution_count": 3,
   "id": "e5980d55-247f-4f78-b3c3-3dde9025d346",
   "metadata": {},
   "outputs": [],
   "source": [
    "from src.scripts.io import DataLoader"
   ]
  },
  {
   "cell_type": "code",
   "execution_count": 4,
   "id": "5782898a-caae-4141-a972-070944fb7f93",
   "metadata": {},
   "outputs": [],
   "source": [
    "def simulator(thetas):#, percent_errors):\n",
    "    # convert to numpy array (if tensor):\n",
    "    thetas = np.atleast_2d(thetas)\n",
    "    # Check if the input has the correct shape\n",
    "    if thetas.shape[1] != 2:\n",
    "        raise ValueError(\"Input tensor must have shape (n, 2) where n is the number of parameter sets.\")\n",
    "\n",
    "    # Unpack the parameters\n",
    "    if thetas.shape[0] == 1:\n",
    "        # If there's only one set of parameters, extract them directly\n",
    "        m, b = thetas[0, 0], thetas[0, 1]\n",
    "    else:\n",
    "        # If there are multiple sets of parameters, extract them for each row\n",
    "        m, b = thetas[:, 0], thetas[:, 1]\n",
    "    x = np.linspace(0, 100, 101)\n",
    "    rs = np.random.RandomState()#2147483648)# \n",
    "    # I'm thinking sigma could actually be a function of x\n",
    "    # if we want to get fancy down the road\n",
    "    # Generate random noise (epsilon) based on a normal distribution with mean 0 and standard deviation sigma\n",
    "    sigma = 5\n",
    "    ε = rs.normal(loc=0, scale=sigma, size=(len(x), thetas.shape[0]))\n",
    "    \n",
    "    # Initialize an empty array to store the results for each set of parameters\n",
    "    y = np.zeros((len(x), thetas.shape[0]))\n",
    "    for i in range(thetas.shape[0]):\n",
    "        m, b = thetas[i, 0], thetas[i, 1]\n",
    "        y[:, i] = m * x + b + ε[:, i]\n",
    "    return torch.Tensor(y.T)"
   ]
  },
  {
   "cell_type": "code",
   "execution_count": 5,
   "id": "4d35f73f-01a1-4e30-a717-adb81a21849a",
   "metadata": {},
   "outputs": [],
   "source": [
    "num_dim = 2\n",
    "\n",
    "low_bounds = torch.tensor([0, -10])\n",
    "high_bounds = torch.tensor([10, 10])\n",
    "\n",
    "prior = sbi.utils.BoxUniform(low = low_bounds, high = high_bounds)"
   ]
  },
  {
   "cell_type": "markdown",
   "id": "734a48cb-1874-4705-b8f7-66e39888fd72",
   "metadata": {},
   "source": [
    "To create the training set, sample from this prior and run it through the simulator."
   ]
  },
  {
   "cell_type": "code",
   "execution_count": 11,
   "id": "561950b0-d037-4d09-910e-7c80331273f8",
   "metadata": {},
   "outputs": [
    {
     "name": "stdout",
     "output_type": "stream",
     "text": [
      "$\\theta$s tensor([[ 4.1849, -6.4817],\n",
      "        [ 7.4023, -8.3961],\n",
      "        [ 1.0809, -4.3180],\n",
      "        ...,\n",
      "        [ 7.9366,  8.7476],\n",
      "        [ 0.7334, -7.2838],\n",
      "        [ 8.7519, -0.0754]]) xs tensor([[ -1.1131, -10.7165,  12.7179,  ..., 406.5125, 400.8539, 418.1629],\n",
      "        [-12.5729,  -7.0795,   8.2704,  ..., 732.9651, 724.2283, 734.0270],\n",
      "        [ -3.6071,  -5.1995,   6.8589,  ...,  96.1481, 101.5714, 111.1034],\n",
      "        ...,\n",
      "        [  6.1125,   9.5420,  16.1666,  ..., 789.9856, 794.8154, 798.9568],\n",
      "        [ -8.5876,  -5.4256,  -8.3190,  ...,  64.5963,  66.2074,  73.9468],\n",
      "        [  7.8072,  15.0878,  27.3789,  ..., 854.3221, 866.7562, 870.2589]])\n"
     ]
    }
   ],
   "source": [
    "params = prior.sample((10000,))\n",
    "xs = simulator(params)\n",
    "print(r'$\\theta$s', params, 'xs', xs)\n"
   ]
  },
  {
   "cell_type": "code",
   "execution_count": 12,
   "id": "5b6fff5d-87a0-4456-a915-2ffec3c0812d",
   "metadata": {},
   "outputs": [],
   "source": [
    "# Save both params and xs to a .pkl file\n",
    "data_to_save = {'thetas': params, 'xs': xs}\n",
    "\n",
    "dataloader = DataLoader()\n",
    "dataloader.save_data_pkl('../saveddata/',\n",
    "                         'data_train',\n",
    "                         data_to_save)"
   ]
  },
  {
   "cell_type": "markdown",
   "id": "c56d415e-a5e7-4abb-86e3-a69e206a9d2c",
   "metadata": {},
   "source": [
    "Redo this with a validation set that is the same size."
   ]
  },
  {
   "cell_type": "code",
   "execution_count": 13,
   "id": "8275530a-bc1b-46e1-99aa-5d5ddbba0bfe",
   "metadata": {},
   "outputs": [
    {
     "name": "stdout",
     "output_type": "stream",
     "text": [
      "$\\theta$s tensor([[ 9.2163,  1.7404],\n",
      "        [ 9.2730, -2.2233],\n",
      "        [ 5.7325, -7.6186],\n",
      "        ...,\n",
      "        [ 9.7974,  0.9499],\n",
      "        [ 5.0012, -4.6716],\n",
      "        [ 1.2730, -9.9987]]) xs tensor([[  3.3746,   3.4333,  24.3763,  ..., 906.7070, 915.0146, 926.6005],\n",
      "        [ -8.5487,   8.1198,  21.0463,  ..., 906.0042, 917.9788, 917.3160],\n",
      "        [ -7.4844,   4.4250,  10.5513,  ..., 550.0146, 559.8779, 558.8493],\n",
      "        ...,\n",
      "        [  2.6021,  14.3608,  21.4350,  ..., 951.8111, 969.6288, 977.5541],\n",
      "        [ -5.0430,  -3.9875,  11.0748,  ..., 482.7758, 487.1702, 501.3554],\n",
      "        [ -7.7894, -10.5941,  -9.1570,  ..., 116.4008, 113.7430, 120.2171]])\n"
     ]
    }
   ],
   "source": [
    "params_valid = prior.sample((10000,))\n",
    "xs_valid = simulator(params_valid)\n",
    "print(r'$\\theta$s', params_valid, 'xs', xs_valid)"
   ]
  },
  {
   "cell_type": "code",
   "execution_count": 14,
   "id": "fc9f3c22-8317-4f76-b860-43cac495d529",
   "metadata": {},
   "outputs": [],
   "source": [
    "# Save both params and xs to a .pkl file\n",
    "data_to_save_valid = {'thetas': params_valid, 'xs': xs_valid}\n",
    "\n",
    "dataloader = DataLoader()\n",
    "dataloader.save_data_pkl('../saveddata/',\n",
    "                         'data_validation',\n",
    "                         data_to_save_valid)"
   ]
  },
  {
   "cell_type": "markdown",
   "id": "7844698f-1b62-4113-b5d9-1b6b1c7e258c",
   "metadata": {},
   "source": [
    "## Now load up this data and run SBI using it"
   ]
  },
  {
   "cell_type": "code",
   "execution_count": null,
   "id": "7c2dfe9f-d2e2-4a9e-8fd8-ad7aff7bd228",
   "metadata": {},
   "outputs": [],
   "source": []
  }
 ],
 "metadata": {
  "kernelspec": {
   "display_name": "Python 3 (ipykernel)",
   "language": "python",
   "name": "python3"
  },
  "language_info": {
   "codemirror_mode": {
    "name": "ipython",
    "version": 3
   },
   "file_extension": ".py",
   "mimetype": "text/x-python",
   "name": "python",
   "nbconvert_exporter": "python",
   "pygments_lexer": "ipython3",
   "version": "3.9.12"
  }
 },
 "nbformat": 4,
 "nbformat_minor": 5
}
