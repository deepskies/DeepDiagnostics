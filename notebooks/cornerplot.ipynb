{
 "cells": [
  {
   "cell_type": "markdown",
   "id": "cb44b7e3-e1d9-40c1-92c3-8e312ffd6ecc",
   "metadata": {},
   "source": [
    "# Pretty cornerplots\n",
    "Uses multiple plotting utilities to demo all of the options. Here I will display two posteriors, both trained using the same priors; one trained using the generative option for SBI, one trained using the pre-generated training set."
   ]
  },
  {
   "cell_type": "code",
   "execution_count": 1,
   "id": "f89eab45-407d-42c0-812d-3a0800370ab3",
   "metadata": {},
   "outputs": [
    {
     "ename": "ImportError",
     "evalue": "cannot import name 'plot' from 'scripts' (/Users/rnevin/Documents/DeepUQ/src/scripts/__init__.py)",
     "output_type": "error",
     "traceback": [
      "\u001b[0;31m---------------------------------------------------------------------------\u001b[0m",
      "\u001b[0;31mImportError\u001b[0m                               Traceback (most recent call last)",
      "Cell \u001b[0;32mIn[1], line 1\u001b[0m\n\u001b[0;32m----> 1\u001b[0m \u001b[38;5;28;01mfrom\u001b[39;00m \u001b[38;5;21;01mscripts\u001b[39;00m \u001b[38;5;28;01mimport\u001b[39;00m evaluate, io, plot\n\u001b[1;32m      2\u001b[0m \u001b[38;5;28;01mimport\u001b[39;00m \u001b[38;5;21;01mnumpy\u001b[39;00m \u001b[38;5;28;01mas\u001b[39;00m \u001b[38;5;21;01mnp\u001b[39;00m\n\u001b[1;32m      3\u001b[0m \u001b[38;5;28;01mimport\u001b[39;00m \u001b[38;5;21;01mmatplotlib\u001b[39;00m\u001b[38;5;21;01m.\u001b[39;00m\u001b[38;5;21;01mpyplot\u001b[39;00m \u001b[38;5;28;01mas\u001b[39;00m \u001b[38;5;21;01mplt\u001b[39;00m\n",
      "\u001b[0;31mImportError\u001b[0m: cannot import name 'plot' from 'scripts' (/Users/rnevin/Documents/DeepUQ/src/scripts/__init__.py)"
     ]
    }
   ],
   "source": [
    "from scripts import evaluate, io, plot\n",
    "import numpy as np\n",
    "import matplotlib.pyplot as plt\n",
    "import matplotlib\n",
    "# remove top and right axis from plots\n",
    "matplotlib.rcParams[\"axes.spines.right\"] = False\n",
    "matplotlib.rcParams[\"axes.spines.top\"] = False"
   ]
  },
  {
   "cell_type": "code",
   "execution_count": null,
   "id": "9f8923fc-3abd-464e-9b19-fc26ed90437a",
   "metadata": {},
   "outputs": [],
   "source": [
    "# load up the generative model\n",
    "modelloader = io.ModelLoader()\n",
    "path = \"../savedmodels/sbi/\"\n",
    "model_name = \"sbi_linear_generative\"\n",
    "posterior_generative = modelloader.load_model_pkl(path, model_name)"
   ]
  },
  {
   "cell_type": "code",
   "execution_count": null,
   "id": "ebbf1d55-24d4-487b-af49-da544cb3f668",
   "metadata": {},
   "outputs": [],
   "source": [
    "# load up the generative model\n",
    "modelloader = io.ModelLoader()\n",
    "path = \"../savedmodels/sbi/\"\n",
    "model_name = \"sbi_linear_from_data\"\n",
    "posterior_static = modelloader.load_model_pkl(path, model_name)"
   ]
  },
  {
   "cell_type": "markdown",
   "id": "4f5f4249-7a82-408f-a2bd-165aeeb8d8bc",
   "metadata": {},
   "source": [
    "In order to evaluate these, we need a validation set, which we'll load below."
   ]
  },
  {
   "cell_type": "code",
   "execution_count": null,
   "id": "abaae20b-8028-43c1-aafb-8f4f2dfb4443",
   "metadata": {},
   "outputs": [],
   "source": [
    "dataloader = io.DataLoader()\n",
    "path = \"../saveddata/\"\n",
    "data_name = \"data_validation\"\n",
    "validation = dataloader.load_data_pkl(data_name, path)\n",
    "theta_true = validation['thetas'][0]\n",
    "y_true = validation['xs'][0]"
   ]
  },
  {
   "cell_type": "markdown",
   "id": "f7ed9d9d-2b36-47b2-a098-84cf4a796f99",
   "metadata": {},
   "source": [
    "Visualize the validation data."
   ]
  },
  {
   "cell_type": "code",
   "execution_count": null,
   "id": "025b6d3a-0405-45f7-a885-a65c5e9942a7",
   "metadata": {},
   "outputs": [],
   "source": [
    "x = np.linspace(0, 100, 101)\n",
    "plt.clf()\n",
    "plt.scatter(x, y_true, color = 'black')\n",
    "plt.xlabel('x')\n",
    "plt.ylabel('y')\n",
    "plt.show()"
   ]
  },
  {
   "cell_type": "markdown",
   "id": "2dc3ee21-3d8a-4c21-8cc2-488f1149ca13",
   "metadata": {},
   "source": [
    "Let's draw from the posterior and display the results in a pairplot from mackelab. First for the static results."
   ]
  },
  {
   "cell_type": "code",
   "execution_count": null,
   "id": "63b30f5a-c2e0-4804-85a4-ee244899da11",
   "metadata": {},
   "outputs": [],
   "source": [
    "display = plot.Display()\n",
    "posterior_samples = posterior_static.sample((10000,), x = y_true)\n",
    "display.mackelab_corner_plot(posterior_samples,\n",
    "                             labels_list = ['$m$','$b$'],\n",
    "                             truth_list = theta_true,\n",
    "                             truth_color = 'orange',\n",
    "                             plot = True,\n",
    "                             save = True,\n",
    "                             path = '../plots/static/')"
   ]
  },
  {
   "cell_type": "markdown",
   "id": "470ec484-1c12-4049-836b-392c5af8bae9",
   "metadata": {},
   "source": [
    "Now for the generative model."
   ]
  },
  {
   "cell_type": "code",
   "execution_count": null,
   "id": "0ce170e0-2290-4029-a66e-4706793e0ca9",
   "metadata": {},
   "outputs": [],
   "source": [
    "display = plot.Display()\n",
    "posterior_samples = posterior_generative.sample((10000,), x = y_true)\n",
    "display.mackelab_corner_plot(posterior_samples,\n",
    "                             labels_list = ['$m$','$b$'],\n",
    "                             truth_list = theta_true,\n",
    "                             truth_color = 'orange',\n",
    "                             plot=True,\n",
    "                             save=True,\n",
    "                             path = '../plots/generative/')"
   ]
  },
  {
   "cell_type": "markdown",
   "id": "5eba2920-aae9-4ab1-8a93-67451fbae59d",
   "metadata": {},
   "source": [
    "Now let's use the getdist utility. First for the static results"
   ]
  },
  {
   "cell_type": "code",
   "execution_count": null,
   "id": "0bb4540b-a208-47a4-b004-e4a1922f3e2c",
   "metadata": {},
   "outputs": [],
   "source": [
    "display.getdist_corner_plot(posterior_samples,\n",
    "                            labels_list = ['$m$','$b$'],\n",
    "                            truth_list = theta_true,\n",
    "                            truth_color = 'orange',\n",
    "                            plot = True,\n",
    "                            save = True,\n",
    "                            path = '../plots/static/')"
   ]
  }
 ],
 "metadata": {
  "kernelspec": {
   "display_name": "Python 3 (ipykernel)",
   "language": "python",
   "name": "python3"
  },
  "language_info": {
   "codemirror_mode": {
    "name": "ipython",
    "version": 3
   },
   "file_extension": ".py",
   "mimetype": "text/x-python",
   "name": "python",
   "nbconvert_exporter": "python",
   "pygments_lexer": "ipython3",
   "version": "3.9.12"
  }
 },
 "nbformat": 4,
 "nbformat_minor": 5
}
