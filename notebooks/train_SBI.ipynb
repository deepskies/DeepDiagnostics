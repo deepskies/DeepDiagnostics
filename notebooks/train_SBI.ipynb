{
 "cells": [
  {
   "cell_type": "markdown",
   "id": "d467063e-00c2-48e1-a214-434767a4bc37",
   "metadata": {},
   "source": [
    "# Quick train SBI\n",
    "Then save the posterior as a pkl using the evaluate module."
   ]
  },
  {
   "cell_type": "code",
   "execution_count": 9,
   "id": "ebb1cf48-c144-4a56-b46a-edef83f443fa",
   "metadata": {},
   "outputs": [],
   "source": [
    "import numpy as np\n",
    "import matplotlib.pyplot as plt\n",
    "import matplotlib\n",
    "# remove top and right axis from plots\n",
    "matplotlib.rcParams[\"axes.spines.right\"] = False\n",
    "matplotlib.rcParams[\"axes.spines.top\"] = False"
   ]
  },
  {
   "cell_type": "code",
   "execution_count": 18,
   "id": "486dda47-bf7b-45ea-88fe-55960d81c4bb",
   "metadata": {},
   "outputs": [],
   "source": [
    "import sbi\n",
    "from sbi.inference import SNPE\n",
    "from sbi.inference.base import infer\n",
    "from sbi.analysis import pairplot\n",
    "import torch"
   ]
  },
  {
   "cell_type": "code",
   "execution_count": 1,
   "id": "f64b72b1-3c46-45af-932e-59512b2adbc8",
   "metadata": {},
   "outputs": [],
   "source": [
    "# this is necessary to import modules from this repo\n",
    "import sys\n",
    "sys.path.append('..')\n",
    "from src.scripts import evaluate"
   ]
  },
  {
   "cell_type": "code",
   "execution_count": 6,
   "id": "cd5034fb-94da-4b3d-b5ca-89f16ed98ff9",
   "metadata": {},
   "outputs": [],
   "source": [
    "def simulator(thetas):#, percent_errors):\n",
    "    # just plop the pendulum within here\n",
    "    m, b = thetas\n",
    "    x = np.linspace(0, 100, 101)\n",
    "    rs = np.random.RandomState()#2147483648)# \n",
    "    # I'm thinking sigma could actually be a function of x\n",
    "    # if we want to get fancy down the road\n",
    "    sigma = 10\n",
    "    ε = rs.normal(loc=0, scale=sigma, size = len(x)) \n",
    "    return m * x + b + ε"
   ]
  },
  {
   "cell_type": "code",
   "execution_count": 9,
   "id": "9fe446e0-e80e-4c6a-a67e-8a8bd19d2787",
   "metadata": {},
   "outputs": [],
   "source": [
    "num_dim = 2\n",
    "\n",
    "low_bounds = torch.tensor([0, -10])\n",
    "high_bounds = torch.tensor([10, 10])\n",
    "\n",
    "prior = sbi.utils.BoxUniform(low = low_bounds, high = high_bounds)"
   ]
  },
  {
   "cell_type": "code",
   "execution_count": 12,
   "id": "b4d1c9af-cedc-483b-92ba-8bb1d195bccf",
   "metadata": {},
   "outputs": [
    {
     "data": {
      "application/vnd.jupyter.widget-view+json": {
       "model_id": "7d46e37a2a3c473f9fe9bc96c50b46c2",
       "version_major": 2,
       "version_minor": 0
      },
      "text/plain": [
       "Running 10000 simulations.:   0%|          | 0/10000 [00:00<?, ?it/s]"
      ]
     },
     "metadata": {},
     "output_type": "display_data"
    },
    {
     "name": "stdout",
     "output_type": "stream",
     "text": [
      " Neural network successfully converged after 59 epochs."
     ]
    }
   ],
   "source": [
    "posterior = infer(simulator, prior, \"SNPE\", num_simulations=10000)"
   ]
  },
  {
   "cell_type": "code",
   "execution_count": 2,
   "id": "07042d00-c9b1-494b-8870-d93ad18e2e11",
   "metadata": {},
   "outputs": [
    {
     "ename": "NameError",
     "evalue": "name 'posterior' is not defined",
     "output_type": "error",
     "traceback": [
      "\u001b[0;31m---------------------------------------------------------------------------\u001b[0m",
      "\u001b[0;31mNameError\u001b[0m                                 Traceback (most recent call last)",
      "Cell \u001b[0;32mIn[2], line 4\u001b[0m\n\u001b[1;32m      2\u001b[0m path \u001b[38;5;241m=\u001b[39m \u001b[38;5;124m\"\u001b[39m\u001b[38;5;124m../savedmodels/sbi/\u001b[39m\u001b[38;5;124m\"\u001b[39m\n\u001b[1;32m      3\u001b[0m model_name \u001b[38;5;241m=\u001b[39m \u001b[38;5;124m\"\u001b[39m\u001b[38;5;124msbi_linear\u001b[39m\u001b[38;5;124m\"\u001b[39m\n\u001b[0;32m----> 4\u001b[0m inference_model\u001b[38;5;241m.\u001b[39msave_model_pkl(path, model_name, \u001b[43mposterior\u001b[49m)\n",
      "\u001b[0;31mNameError\u001b[0m: name 'posterior' is not defined"
     ]
    }
   ],
   "source": [
    "inference_model = evaluate.InferenceModel()\n",
    "path = \"../savedmodels/sbi/\"\n",
    "model_name = \"sbi_linear\"\n",
    "inference_model.save_model_pkl(path, model_name, posterior)"
   ]
  },
  {
   "cell_type": "markdown",
   "id": "3dcfdf32-7ced-4380-8047-46a507eb0de6",
   "metadata": {},
   "source": [
    "Test that this worked."
   ]
  },
  {
   "cell_type": "code",
   "execution_count": 13,
   "id": "c4d1dbcb-2baf-478d-a3f2-d1c31228b7ab",
   "metadata": {},
   "outputs": [
    {
     "name": "stdout",
     "output_type": "stream",
     "text": [
      "../savedmodels/sbi/\n"
     ]
    }
   ],
   "source": [
    "inference_model = evaluate.InferenceModel()\n",
    "path = \"../savedmodels/sbi/\"\n",
    "model_name = \"sbi_linear\"\n",
    "posterior = inference_model.load_model_pkl(path, model_name)"
   ]
  },
  {
   "cell_type": "markdown",
   "id": "687c0227-aed3-410a-85a3-42757bc7dfe4",
   "metadata": {},
   "source": [
    "Run inference on the posterior."
   ]
  },
  {
   "cell_type": "code",
   "execution_count": 11,
   "id": "faa33718-1c47-428b-9e94-23d4ce59c5ca",
   "metadata": {},
   "outputs": [
    {
     "data": {
      "image/png": "[encoded data removed]",
      "text/plain": [
       "<Figure size 640x480 with 1 Axes>"
      ]
     },
     "metadata": {},
     "output_type": "display_data"
    }
   ],
   "source": [
    "# generate a true dataset\n",
    "theta_true = [1, 5]\n",
    "y_true = simulator(theta_true)\n",
    "\n",
    "# and visualize it\n",
    "plt.clf()\n",
    "plt.scatter(np.linspace(0, 100, 101),\n",
    "            np.array(y_true), color = 'black')\n",
    "plt.xlabel('x')\n",
    "plt.ylabel('y')\n",
    "plt.show()"
   ]
  },
  {
   "cell_type": "code",
   "execution_count": 19,
   "id": "3b68d4b4-91e2-4120-8cc3-8bc1eafbf883",
   "metadata": {},
   "outputs": [
    {
     "data": {
      "application/vnd.jupyter.widget-view+json": {
       "model_id": "ab092726a226474a80e7032465acf102",
       "version_major": 2,
       "version_minor": 0
      },
      "text/plain": [
       "Drawing 10000 posterior samples:   0%|          | 0/10000 [00:00<?, ?it/s]"
      ]
     },
     "metadata": {},
     "output_type": "display_data"
    },
    {
     "data": {
      "text/plain": [
       "[<matplotlib.lines.Line2D at 0x11960c190>]"
      ]
     },
     "execution_count": 19,
     "metadata": {},
     "output_type": "execute_result"
    },
    {
     "data": {
      "image/png": "[encoded data removed]",
      "text/plain": [
       "<Figure size 500x500 with 4 Axes>"
      ]
     },
     "metadata": {},
     "output_type": "display_data"
    }
   ],
   "source": [
    "# sample from the posterior\n",
    "posterior_samples_1 = posterior.sample((10000,), x = y_true)\n",
    "# that last little part is conditioning on a data value\n",
    "# plot posterior samples\n",
    "fig, axes = sbi.analysis.pairplot(\n",
    "    posterior_samples_1, \n",
    "    labels = ['m', 'b'],\n",
    "    #limits = [[0,10],[-10,10],[0,10]],\n",
    "    truths = theta_true,\n",
    "    figsize=(5, 5)\n",
    ")\n",
    "axes[0, 1].plot([theta_true[1]], [theta_true[0]], marker=\"o\", color=\"red\")"
   ]
  },
  {
   "cell_type": "code",
   "execution_count": null,
   "id": "639399bb-378f-4944-af34-4342ff569bc0",
   "metadata": {},
   "outputs": [],
   "source": []
  }
 ],
 "metadata": {
  "kernelspec": {
   "display_name": "Python 3 (ipykernel)",
   "language": "python",
   "name": "python3"
  },
  "language_info": {
   "codemirror_mode": {
    "name": "ipython",
    "version": 3
   },
   "file_extension": ".py",
   "mimetype": "text/x-python",
   "name": "python",
   "nbconvert_exporter": "python",
   "pygments_lexer": "ipython3",
   "version": "3.9.12"
  }
 },
 "nbformat": 4,
 "nbformat_minor": 5
}
