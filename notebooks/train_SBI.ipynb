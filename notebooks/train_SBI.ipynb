{
 "cells": [
  {
   "cell_type": "markdown",
   "id": "d467063e-00c2-48e1-a214-434767a4bc37",
   "metadata": {},
   "source": [
    "# Quick train SBI\n",
    "Then save the posterior as a pkl using the evaluate module. This notebook demonstrates how to run SBI using the 'on the fly' technique, where SBI uses the prior and simulator to generate data as it trains. An alternate method (that is adventageous for expensive data generation) is demonstrated in the `save_and_load_data.ipynb` tutorial, where the data is pre-generated and used to train SBI."
   ]
  },
  {
   "cell_type": "code",
   "execution_count": 1,
   "id": "ebb1cf48-c144-4a56-b46a-edef83f443fa",
   "metadata": {},
   "outputs": [],
   "source": [
    "import numpy as np\n",
    "import matplotlib.pyplot as plt\n",
    "import matplotlib\n",
    "# remove top and right axis from plots\n",
    "matplotlib.rcParams[\"axes.spines.right\"] = False\n",
    "matplotlib.rcParams[\"axes.spines.top\"] = False"
   ]
  },
  {
   "cell_type": "code",
   "execution_count": 2,
   "id": "486dda47-bf7b-45ea-88fe-55960d81c4bb",
   "metadata": {},
   "outputs": [],
   "source": [
    "import sbi\n",
    "from sbi.inference import SNPE\n",
    "from sbi.inference.base import infer\n",
    "from sbi.analysis import pairplot\n",
    "import torch"
   ]
  },
  {
   "cell_type": "code",
   "execution_count": 3,
   "id": "f64b72b1-3c46-45af-932e-59512b2adbc8",
   "metadata": {},
   "outputs": [],
   "source": [
    "from scripts import io"
   ]
  },
  {
   "cell_type": "code",
   "execution_count": 4,
   "id": "cd5034fb-94da-4b3d-b5ca-89f16ed98ff9",
   "metadata": {},
   "outputs": [],
   "source": [
    "def simulator(thetas):#, percent_errors):\n",
    "    # convert to numpy array (if tensor):\n",
    "    thetas = np.atleast_2d(thetas)\n",
    "    # Check if the input has the correct shape\n",
    "    if thetas.shape[1] != 2:\n",
    "        raise ValueError(\"Input tensor must have shape (n, 2) where n is the number of parameter sets.\")\n",
    "\n",
    "    # Unpack the parameters\n",
    "    if thetas.shape[0] == 1:\n",
    "        # If there's only one set of parameters, extract them directly\n",
    "        m, b = thetas[0, 0], thetas[0, 1]\n",
    "    else:\n",
    "        # If there are multiple sets of parameters, extract them for each row\n",
    "        m, b = thetas[:, 0], thetas[:, 1]\n",
    "    x = np.linspace(0, 100, 101)\n",
    "    rs = np.random.RandomState()#2147483648)# \n",
    "    # I'm thinking sigma could actually be a function of x\n",
    "    # if we want to get fancy down the road\n",
    "    # Generate random noise (epsilon) based on a normal distribution with mean 0 and standard deviation sigma\n",
    "    sigma = 5\n",
    "    ε = rs.normal(loc=0, scale=sigma, size=(len(x), thetas.shape[0]))\n",
    "    \n",
    "    # Initialize an empty array to store the results for each set of parameters\n",
    "    y = np.zeros((len(x), thetas.shape[0]))\n",
    "    for i in range(thetas.shape[0]):\n",
    "        m, b = thetas[i, 0], thetas[i, 1]\n",
    "        y[:, i] = m * x + b + ε[:, i]\n",
    "    return torch.Tensor(y.T)"
   ]
  },
  {
   "cell_type": "code",
   "execution_count": 5,
   "id": "9fe446e0-e80e-4c6a-a67e-8a8bd19d2787",
   "metadata": {},
   "outputs": [],
   "source": [
    "low_bounds = torch.tensor([0, -10])\n",
    "high_bounds = torch.tensor([10, 10])\n",
    "\n",
    "prior = sbi.utils.BoxUniform(low = low_bounds, high = high_bounds)"
   ]
  },
  {
   "cell_type": "code",
   "execution_count": 6,
   "id": "b4d1c9af-cedc-483b-92ba-8bb1d195bccf",
   "metadata": {},
   "outputs": [
    {
     "data": {
      "application/vnd.jupyter.widget-view+json": {
       "model_id": "6542ef35bbe849579ce7d2f8ef9a3850",
       "version_major": 2,
       "version_minor": 0
      },
      "text/plain": [
       "Running 10000 simulations.:   0%|          | 0/10000 [00:00<?, ?it/s]"
      ]
     },
     "metadata": {},
     "output_type": "display_data"
    },
    {
     "name": "stdout",
     "output_type": "stream",
     "text": [
      " Neural network successfully converged after 88 epochs."
     ]
    }
   ],
   "source": [
    "posterior = infer(simulator, prior, \"SNPE\", num_simulations=10000)"
   ]
  },
  {
   "cell_type": "code",
   "execution_count": 7,
   "id": "07042d00-c9b1-494b-8870-d93ad18e2e11",
   "metadata": {},
   "outputs": [],
   "source": [
    "modelloader = io.ModelLoader()\n",
    "path = \"../savedmodels/sbi/\"\n",
    "model_name = \"sbi_linear_generative\"\n",
    "modelloader.save_model_pkl(path, model_name, posterior)"
   ]
  },
  {
   "cell_type": "markdown",
   "id": "3dcfdf32-7ced-4380-8047-46a507eb0de6",
   "metadata": {},
   "source": [
    "Test that this worked."
   ]
  },
  {
   "cell_type": "code",
   "execution_count": 8,
   "id": "c4d1dbcb-2baf-478d-a3f2-d1c31228b7ab",
   "metadata": {},
   "outputs": [
    {
     "name": "stdout",
     "output_type": "stream",
     "text": [
      "../savedmodels/sbi/\n"
     ]
    }
   ],
   "source": [
    "path = \"../savedmodels/sbi/\"\n",
    "model_name = \"sbi_linear_generative\"\n",
    "posterior = modelloader.load_model_pkl(path, model_name)"
   ]
  },
  {
   "cell_type": "markdown",
   "id": "687c0227-aed3-410a-85a3-42757bc7dfe4",
   "metadata": {},
   "source": [
    "Run inference on the posterior."
   ]
  },
  {
   "cell_type": "code",
   "execution_count": 9,
   "id": "faa33718-1c47-428b-9e94-23d4ce59c5ca",
   "metadata": {},
   "outputs": [
    {
     "data": {
      "image/png": "[encoded data removed]",
      "text/plain": [
       "<Figure size 640x480 with 1 Axes>"
      ]
     },
     "metadata": {},
     "output_type": "display_data"
    }
   ],
   "source": [
    "# generate a true dataset\n",
    "theta_true = [1, 5]\n",
    "y_true = simulator(theta_true)\n",
    "\n",
    "# and visualize it\n",
    "plt.clf()\n",
    "plt.scatter(np.linspace(0, 100, 101),\n",
    "            np.array(y_true), color = 'black')\n",
    "plt.xlabel('x')\n",
    "plt.ylabel('y')\n",
    "plt.show()"
   ]
  },
  {
   "cell_type": "code",
   "execution_count": 10,
   "id": "3b68d4b4-91e2-4120-8cc3-8bc1eafbf883",
   "metadata": {},
   "outputs": [
    {
     "data": {
      "application/vnd.jupyter.widget-view+json": {
       "model_id": "c15830e76fbe4f3c80aea706849a7463",
       "version_major": 2,
       "version_minor": 0
      },
      "text/plain": [
       "Drawing 10000 posterior samples:   0%|          | 0/10000 [00:00<?, ?it/s]"
      ]
     },
     "metadata": {},
     "output_type": "display_data"
    },
    {
     "data": {
      "text/plain": [
       "[<matplotlib.lines.Line2D at 0x2aff7c1c0>]"
      ]
     },
     "execution_count": 10,
     "metadata": {},
     "output_type": "execute_result"
    },
    {
     "data": {
      "image/png": "[encoded data removed]",
      "text/plain": [
       "<Figure size 500x500 with 4 Axes>"
      ]
     },
     "metadata": {},
     "output_type": "display_data"
    }
   ],
   "source": [
    "# sample from the posterior\n",
    "posterior_samples_1 = posterior.sample((10000,), x = y_true)\n",
    "# that last little part is conditioning on a data value\n",
    "# plot posterior samples\n",
    "fig, axes = sbi.analysis.pairplot(\n",
    "    posterior_samples_1, \n",
    "    labels = ['m', 'b'],\n",
    "    #limits = [[0,10],[-10,10],[0,10]],\n",
    "    truths = theta_true,\n",
    "    figsize=(5, 5)\n",
    ")\n",
    "axes[0, 1].plot([theta_true[1]], [theta_true[0]], marker=\"o\", color=\"red\")"
   ]
  },
  {
   "cell_type": "code",
   "execution_count": null,
   "id": "639399bb-378f-4944-af34-4342ff569bc0",
   "metadata": {},
   "outputs": [],
   "source": []
  }
 ],
 "metadata": {
  "kernelspec": {
   "display_name": "Python 3 (ipykernel)",
   "language": "python",
   "name": "python3"
  },
  "language_info": {
   "codemirror_mode": {
    "name": "ipython",
    "version": 3
   },
   "file_extension": ".py",
   "mimetype": "text/x-python",
   "name": "python",
   "nbconvert_exporter": "python",
   "pygments_lexer": "ipython3",
   "version": "3.9.12"
  }
 },
 "nbformat": 4,
 "nbformat_minor": 5
}
