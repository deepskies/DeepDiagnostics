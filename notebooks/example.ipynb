{
 "cells": [
  {
   "cell_type": "code",
   "execution_count": 1,
   "metadata": {},
   "outputs": [],
   "source": [
    "#import deepdiagonstics\n",
    "import models\n",
    "import data\n",
    "from utils.config import Config\n",
    "\n",
    "import numpy as np \n",
    "import os "
   ]
  },
  {
   "cell_type": "markdown",
   "metadata": {},
   "source": [
    "## Introduction to DeepDiagnostics \n",
    "\n",
    "DeepDiagnostics is a command-line utility for running simulation-based inference (sbi) methods. \n",
    "It works primarily by interacting with a yaml file to overwrite defaults and specify what diagnostics to run and how."
   ]
  },
  {
   "cell_type": "markdown",
   "metadata": {},
   "source": [
    "### Configuration \n",
    "\n",
    "The configuration files controls most of DeepDiagnostics. \n",
    "It is broken into 7 parts. \n",
    "* Common\n",
    "\n",
    "This controls things like the paths of results, where the simulations are registered, and the random seed. \n",
    "\n",
    "* Model \n",
    "\n",
    "Specify the path and backend for running model inference. \n",
    "\n",
    "* Data \n",
    "\n",
    "Specify the prior, simulation, data file, and way to read the data file. \n",
    "\n",
    "* Plots Common \n",
    "\n",
    "Default parameters all plots use unless otherwise specified. \n",
    "\n",
    "* Metrics Common \n",
    "\n",
    "Default parameters all metrics use unless otherwise specified.\n",
    "\n",
    "* Plots \n",
    "\n",
    "Dictionary of all the plots to generate. Each field of the dictionary is the name of plot and their corresponding `kwargs`. \n",
    "\n",
    "* Metrics \n",
    "\n",
    "Same concept as plots! \n",
    "\n",
    "### Defaults \n",
    "The defaults for these fields are as follows: "
   ]
  },
  {
   "cell_type": "code",
   "execution_count": 2,
   "metadata": {},
   "outputs": [
    {
     "data": {
      "text/plain": [
       "{'common': {'out_dir': './DeepDiagnosticsResources/results/',\n",
       "  'temp_config': './DeepDiagnosticsResources/temp/temp_config.yml',\n",
       "  'sim_location': 'DeepDiagnosticsResources/simulators',\n",
       "  'random_seed': 42},\n",
       " 'model': {'model_engine': 'SBIModel'},\n",
       " 'data': {'data_engine': 'H5Data',\n",
       "  'prior': 'normal',\n",
       "  'prior_kwargs': None,\n",
       "  'simulator_kwargs': None},\n",
       " 'plots_common': {'axis_spines': False,\n",
       "  'tight_layout': True,\n",
       "  'default_colorway': 'viridis',\n",
       "  'plot_style': 'fast',\n",
       "  'parameter_labels': ['$m$', '$b$'],\n",
       "  'parameter_colors': ['#9C92A3', '#0F5257'],\n",
       "  'line_style_cycle': ['-', '-.'],\n",
       "  'figure_size': [6, 6]},\n",
       " 'plots': {'CDFRanks': {},\n",
       "  'Ranks': {'num_bins': None},\n",
       "  'CoverageFraction': {},\n",
       "  'TARP': {'coverage_sigma': 3}},\n",
       " 'metrics_common': {'use_progress_bar': False,\n",
       "  'samples_per_inference': 1000,\n",
       "  'percentiles': [75, 85, 95],\n",
       "  'number_simulations': 50},\n",
       " 'metrics': {'AllSBC': {}, 'CoverageFraction': {}}}"
      ]
     },
     "execution_count": 2,
     "metadata": {},
     "output_type": "execute_result"
    }
   ],
   "source": [
    "from utils.defaults import Defaults\n",
    "Defaults"
   ]
  },
  {
   "cell_type": "markdown",
   "metadata": {},
   "source": [
    "## Running DeepDiagnostics  \n",
    "\n",
    "Operation has two main modes: Either add command line arguments for key fields or specify a whole new configuration file. "
   ]
  },
  {
   "cell_type": "code",
   "execution_count": 3,
   "metadata": {},
   "outputs": [
    {
     "name": "stdout",
     "output_type": "stream",
     "text": [
      "usage: diagnose [-h] [--config CONFIG] [--model_path MODEL_PATH]\n",
      "                [--model_engine {SBIModel}] [--data_path DATA_PATH]\n",
      "                [--data_engine {H5Data,PickleData}] [--simulator SIMULATOR]\n",
      "                [--out_dir OUT_DIR]\n",
      "                [--metrics {CoverageFraction,AllSBC} [{CoverageFraction,AllSBC} ...]]\n",
      "                [--plots {CDFRanks,CoverageFraction,Ranks,TARP} [{CDFRanks,CoverageFraction,Ranks,TARP} ...]]\n",
      "\n",
      "options:\n",
      "  -h, --help            show this help message and exit\n",
      "  --config CONFIG, -c CONFIG\n",
      "  --model_path MODEL_PATH, -m MODEL_PATH\n",
      "  --model_engine {SBIModel}, -e {SBIModel}\n",
      "  --data_path DATA_PATH, -d DATA_PATH\n",
      "  --data_engine {H5Data,PickleData}, -g {H5Data,PickleData}\n",
      "  --simulator SIMULATOR, -s SIMULATOR\n",
      "  --out_dir OUT_DIR\n",
      "  --metrics {CoverageFraction,AllSBC} [{CoverageFraction,AllSBC} ...]\n",
      "  --plots {CDFRanks,CoverageFraction,Ranks,TARP} [{CDFRanks,CoverageFraction,Ranks,TARP} ...]\n"
     ]
    }
   ],
   "source": [
    "! diagnose -h"
   ]
  },
  {
   "cell_type": "markdown",
   "metadata": {},
   "source": [
    "## Using a simulator\n",
    "\n",
    "In order to run the models, you must supply a simulator. \n",
    "Simulators are all subclasses of `data.Simulator`, and need to be registered with `register_simulator` to use during runtime. \n",
    "\n",
    "`data.Simulator` is an abstract class that requires a `generate_context` \n",
    "(which takes a number of samples and returns a random sample of context the simulator uses to produce results. \n",
    "This can either be loaded in from a specific file, or a random distribution.) \n",
    "and `simulate` method \n",
    "(which takes a context and parameters of the model )\n",
    "See below for an example with typing, simulating a 2d case where the model being fit is a linear model. "
   ]
  },
  {
   "cell_type": "code",
   "execution_count": 2,
   "metadata": {},
   "outputs": [
    {
     "name": "stdout",
     "output_type": "stream",
     "text": [
      "Overwriting my_simulator.py\n"
     ]
    }
   ],
   "source": [
    "%%writefile my_simulator.py \n",
    "\n",
    "from utils.register import register_simulator\n",
    "from data.simulator import Simulator\n",
    "import numpy as np \n",
    "\n",
    "class MySimulator(Simulator): \n",
    "    def generate_context(self, n_samples: int) -> np.ndarray:\n",
    "        return np.linspace(0, 100, n_samples)\n",
    "    \n",
    "    def simulate(self, theta: np.ndarray, context_samples: np.ndarray) -> np.ndarray:\n",
    "        thetas = np.atleast_2d(theta)\n",
    "        if thetas.shape[1] != 2:\n",
    "            raise ValueError(\"Input tensor must have shape (n, 2) where n is the number of parameter sets.\")\n",
    "\n",
    "        if thetas.shape[0] == 1:\n",
    "            # If there's only one set of parameters, extract them directly\n",
    "            m, b = thetas[0, 0], thetas[0, 1]\n",
    "        else:\n",
    "            # If there are multiple sets of parameters, extract them for each row\n",
    "            m, b = thetas[:, 0], thetas[:, 1]\n",
    "        rs = np.random.RandomState()\n",
    "        sigma = 1\n",
    "        epsilon = rs.normal(loc=0, scale=sigma, size=(len(context_samples), thetas.shape[0]))\n",
    "        \n",
    "        # Initialize an empty array to store the results for each set of parameters\n",
    "        y = np.zeros((len(context_samples), thetas.shape[0]))\n",
    "        for i in range(thetas.shape[0]):\n",
    "            m, b = thetas[i, 0], thetas[i, 1]\n",
    "            y[:, i] = m * context_samples + b + epsilon[:, i]\n",
    "        return y.T"
   ]
  },
  {
   "cell_type": "code",
   "execution_count": 5,
   "metadata": {},
   "outputs": [],
   "source": [
    "# Just running the file to make sure we're not either missing imports or have a syntax error\n",
    "! python3 my_simulator.py"
   ]
  },
  {
   "cell_type": "code",
   "execution_count": 3,
   "metadata": {},
   "outputs": [
    {
     "name": "stdout",
     "output_type": "stream",
     "text": [
      "Warning: Cannot load config from environment. Hint: Have you set the config path by passing a str path to Config?\n"
     ]
    }
   ],
   "source": [
    "from utils.register import register_simulator\n",
    "from my_simulator import MySimulator\n",
    "\n",
    "register_simulator(\"MySimulator\", MySimulator) \n",
    "# We are registering without having a config set ahead of time, so it may raise a warning. This is fine!\n",
    "# Only reason we'd want to use a config ahead of time is if we were running this in a cluster \n",
    "# And had specific requirements where we can put files \n",
    "# In which case we'd change the \"common\":{\"sim_location\": <path>} field"
   ]
  },
  {
   "cell_type": "code",
   "execution_count": 4,
   "metadata": {},
   "outputs": [],
   "source": [
    "import yaml\n",
    "\n",
    "my_config = {\n",
    "    \"model\": {\"model_path\": \"../resources/savedmodels/sbi/sbi_linear_from_data.pkl\"}, \n",
    "    \"data\": {\n",
    "        \"data_path\": \"../resources/saveddata/data_validation.h5\", \n",
    "        \"simulator\": \"MySimulator\"}, \n",
    "    \"metrics_common\": {\n",
    "        \"use_progress_bar\": True,\n",
    "        \"samples_per_inference\": 10,\n",
    "        \"number_simulations\": 5}, \n",
    "    \"metrics\": {},\n",
    "    \"plots\":{}\n",
    "}\n",
    "with open(\"./my_config.yaml\", \"w\") as f: \n",
    "    yaml.safe_dump(my_config, f)"
   ]
  },
  {
   "cell_type": "code",
   "execution_count": 10,
   "metadata": {},
   "outputs": [],
   "source": [
    "# Because nothing is set in the metrics or plots in the above config, nothing will run. \n",
    "! diagnose --config ./my_config.yaml"
   ]
  },
  {
   "cell_type": "code",
   "execution_count": 12,
   "metadata": {},
   "outputs": [],
   "source": [
    "# We can do a similar thing by passing specific kwargs \n",
    "# Here we're just calculating the coverage fraction \n",
    "! diagnose --model_path ../resources/savedmodels/sbi/sbi_linear_from_data.pkl --data_path ../resources/saveddata/data_validation.h5 --simulator MySimulator --metrics CoverageFraction --plots CoverageFraction"
   ]
  },
  {
   "cell_type": "markdown",
   "metadata": {},
   "source": [
    "This produces a image of the coverage fraction from our model and data, shown below. \n",
    "\n",
    "<img src=\"./DeepDiagnosticsResources/results/coverage_fraction.png\" alt=\"Coverage Fraction\" width=\"400\"/>"
   ]
  },
  {
   "cell_type": "markdown",
   "metadata": {},
   "source": [
    "## Using standalone functions \n",
    "\n",
    "DeepDiagnostics, if you have a configuration file set, can also be used with just the functions. Below is a list of all the functions and examples of their use. "
   ]
  },
  {
   "cell_type": "code",
   "execution_count": 6,
   "metadata": {},
   "outputs": [],
   "source": [
    "# All metrics require a model and data \n",
    "Config(\"./my_config.yaml\")\n",
    "\n",
    "model = models.SBIModel(\"../resources/savedmodels/sbi/sbi_linear_from_data.pkl\")\n",
    "data = data.H5Data(\"../resources/saveddata/data_validation.h5\", simulator=\"MySimulator\")"
   ]
  },
  {
   "cell_type": "markdown",
   "metadata": {},
   "source": []
  },
  {
   "cell_type": "code",
   "execution_count": 7,
   "metadata": {},
   "outputs": [
    {
     "ename": "ModuleNotFoundError",
     "evalue": "No module named 'utils.plotting_utils'",
     "output_type": "error",
     "traceback": [
      "\u001b[0;31m---------------------------------------------------------------------------\u001b[0m",
      "\u001b[0;31mModuleNotFoundError\u001b[0m                       Traceback (most recent call last)",
      "Cell \u001b[0;32mIn[7], line 1\u001b[0m\n\u001b[0;32m----> 1\u001b[0m \u001b[38;5;28;01mfrom\u001b[39;00m \u001b[38;5;21;01mplots\u001b[39;00m \u001b[38;5;28;01mimport\u001b[39;00m CDFRanks, CoverageFraction, Ranks, TARP, LocalTwoSampleTest\n",
      "File \u001b[0;32m~/repo/DeepDiagnostics/src/plots/__init__.py:5\u001b[0m\n\u001b[1;32m      3\u001b[0m \u001b[38;5;28;01mfrom\u001b[39;00m \u001b[38;5;21;01mplots\u001b[39;00m\u001b[38;5;21;01m.\u001b[39;00m\u001b[38;5;21;01mranks\u001b[39;00m \u001b[38;5;28;01mimport\u001b[39;00m Ranks\n\u001b[1;32m      4\u001b[0m \u001b[38;5;28;01mfrom\u001b[39;00m \u001b[38;5;21;01mplots\u001b[39;00m\u001b[38;5;21;01m.\u001b[39;00m\u001b[38;5;21;01mtarp\u001b[39;00m \u001b[38;5;28;01mimport\u001b[39;00m TARP\n\u001b[0;32m----> 5\u001b[0m \u001b[38;5;28;01mfrom\u001b[39;00m \u001b[38;5;21;01mplots\u001b[39;00m\u001b[38;5;21;01m.\u001b[39;00m\u001b[38;5;21;01mlocal_two_sample\u001b[39;00m \u001b[38;5;28;01mimport\u001b[39;00m LocalTwoSampleTest\n\u001b[1;32m      6\u001b[0m Plots \u001b[38;5;241m=\u001b[39m {\n\u001b[1;32m      7\u001b[0m     CDFRanks\u001b[38;5;241m.\u001b[39m\u001b[38;5;18m__name__\u001b[39m: CDFRanks,\n\u001b[1;32m      8\u001b[0m     CoverageFraction\u001b[38;5;241m.\u001b[39m\u001b[38;5;18m__name__\u001b[39m: CoverageFraction,\n\u001b[0;32m   (...)\u001b[0m\n\u001b[1;32m     11\u001b[0m     \u001b[38;5;124m\"\u001b[39m\u001b[38;5;124mLC2ST\u001b[39m\u001b[38;5;124m\"\u001b[39m: LocalTwoSampleTest\n\u001b[1;32m     12\u001b[0m }\n",
      "File \u001b[0;32m~/repo/DeepDiagnostics/src/plots/local_two_sample.py:11\u001b[0m\n\u001b[1;32m      9\u001b[0m \u001b[38;5;28;01mfrom\u001b[39;00m \u001b[38;5;21;01mmetrics\u001b[39;00m\u001b[38;5;21;01m.\u001b[39;00m\u001b[38;5;21;01mlocal_two_sample\u001b[39;00m \u001b[38;5;28;01mimport\u001b[39;00m LocalTwoSampleTest \u001b[38;5;28;01mas\u001b[39;00m l2st\n\u001b[1;32m     10\u001b[0m \u001b[38;5;28;01mfrom\u001b[39;00m \u001b[38;5;21;01mutils\u001b[39;00m\u001b[38;5;21;01m.\u001b[39;00m\u001b[38;5;21;01mconfig\u001b[39;00m \u001b[38;5;28;01mimport\u001b[39;00m get_item\n\u001b[0;32m---> 11\u001b[0m \u001b[38;5;28;01mfrom\u001b[39;00m \u001b[38;5;21;01mutils\u001b[39;00m\u001b[38;5;21;01m.\u001b[39;00m\u001b[38;5;21;01mplotting_utils\u001b[39;00m \u001b[38;5;28;01mimport\u001b[39;00m get_hex_colors\n\u001b[1;32m     13\u001b[0m \u001b[38;5;28;01mclass\u001b[39;00m \u001b[38;5;21;01mLocalTwoSampleTest\u001b[39;00m(Display): \n\u001b[1;32m     14\u001b[0m \n\u001b[1;32m     15\u001b[0m     \u001b[38;5;66;03m# https://github.com/JuliaLinhart/lc2st/blob/e221cc326480cb0daadfd2ba50df4eefd374793b/lc2st/graphical_diagnostics.py#L133 \u001b[39;00m\n\u001b[1;32m     17\u001b[0m     \u001b[38;5;28;01mdef\u001b[39;00m \u001b[38;5;21m__init__\u001b[39m(\u001b[38;5;28mself\u001b[39m, \n\u001b[1;32m     18\u001b[0m                  model, \n\u001b[1;32m     19\u001b[0m                  data, \n\u001b[0;32m   (...)\u001b[0m\n\u001b[1;32m     27\u001b[0m                  num_simulations: Optional[\u001b[38;5;28mint\u001b[39m] \u001b[38;5;241m=\u001b[39m \u001b[38;5;28;01mNone\u001b[39;00m, \n\u001b[1;32m     28\u001b[0m                  colorway: Optional[\u001b[38;5;28mstr\u001b[39m]\u001b[38;5;241m=\u001b[39m\u001b[38;5;28;01mNone\u001b[39;00m): \n",
      "\u001b[0;31mModuleNotFoundError\u001b[0m: No module named 'utils.plotting_utils'"
     ]
    }
   ],
   "source": [
    "from plots import CDFRanks, CoverageFraction, Ranks, TARP, LocalTwoSampleTest"
   ]
  },
  {
   "cell_type": "code",
   "execution_count": null,
   "metadata": {},
   "outputs": [],
   "source": []
  }
 ],
 "metadata": {
  "kernelspec": {
   "display_name": "deepdiagnostics-081AeCAa-py3.10",
   "language": "python",
   "name": "python3"
  },
  "language_info": {
   "codemirror_mode": {
    "name": "ipython",
    "version": 3
   },
   "file_extension": ".py",
   "mimetype": "text/x-python",
   "name": "python",
   "nbconvert_exporter": "python",
   "pygments_lexer": "ipython3",
   "version": "3.10.12"
  }
 },
 "nbformat": 4,
 "nbformat_minor": 2
}
