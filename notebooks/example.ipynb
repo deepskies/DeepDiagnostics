{
 "cells": [
  {
   "cell_type": "code",
   "execution_count": null,
   "metadata": {},
   "outputs": [],
   "source": [
    "from deepdiagnostics import models\n",
    "from deepdiagnostics import data as data_modules\n",
    "from deepdiagnostics.utils.config import Config\n",
    "from deepdiagnostics.utils.simulator_utils import register_simulator\n",
    "\n",
    "from deepdiagnostics.plots import CDFRanks, CoverageFraction, Ranks, TARP\n",
    "\n",
    "import yaml"
   ]
  },
  {
   "cell_type": "code",
   "execution_count": null,
   "metadata": {},
   "outputs": [],
   "source": [
    "import warnings\n",
    "warnings.filterwarnings('ignore')"
   ]
  },
  {
   "cell_type": "markdown",
   "metadata": {},
   "source": [
    "## Introduction to DeepDiagnostics \n",
    "\n",
    "DeepDiagnostics is a command-line utility for running simulation-based inference (sbi) methods. \n",
    "It works primarily by interacting with a yaml file to overwrite defaults and specify what diagnostics to run and how."
   ]
  },
  {
   "cell_type": "markdown",
   "metadata": {},
   "source": [
    "### Configuration \n",
    "\n",
    "The configuration files controls most of DeepDiagnostics. \n",
    "It is broken into 7 parts. \n",
    "* Common\n",
    "\n",
    "This controls things like the paths of results, where the simulations are registered, and the random seed. \n",
    "\n",
    "* Model \n",
    "\n",
    "Specify the path and backend for running model inference. \n",
    "\n",
    "* Data \n",
    "\n",
    "Specify the prior, simulation, data file, and way to read the data file. \n",
    "\n",
    "* Plots Common \n",
    "\n",
    "Default parameters all plots use unless otherwise specified. \n",
    "\n",
    "* Metrics Common \n",
    "\n",
    "Default parameters all metrics use unless otherwise specified.\n",
    "\n",
    "* Plots \n",
    "\n",
    "Dictionary of all the plots to generate. Each field of the dictionary is the name of plot and their corresponding `kwargs`. \n",
    "\n",
    "* Metrics \n",
    "\n",
    "Same concept as plots! \n",
    "\n",
    "### Defaults \n",
    "The defaults for these fields are as follows: "
   ]
  },
  {
   "cell_type": "code",
   "execution_count": null,
   "metadata": {},
   "outputs": [],
   "source": [
    "from deepdiagnostics.utils.defaults import Defaults\n",
    "Defaults"
   ]
  },
  {
   "cell_type": "markdown",
   "metadata": {},
   "source": [
    "## Running DeepDiagnostics  \n",
    "\n",
    "Operation has two main modes: Either add command line arguments for key fields or specify a whole new configuration file. "
   ]
  },
  {
   "cell_type": "code",
   "execution_count": null,
   "metadata": {},
   "outputs": [],
   "source": [
    "! diagnose -h"
   ]
  },
  {
   "cell_type": "markdown",
   "metadata": {},
   "source": [
    "## Running a simple example\n",
    "\n",
    "Minimal examples can be run by supplying a model path (and a matching model engine to load it, if using a model format that is not SBI), and data. \n",
    "Below is an example for both CLI and standalone execution.\n",
    "When a simulator is not included, a warning will be shown but this does not impact non-generative metrics and plots."
   ]
  },
  {
   "cell_type": "code",
   "execution_count": null,
   "metadata": {},
   "outputs": [],
   "source": [
    "! diagnose --model_path ../resources/savedmodels/sbi/sbi_linear_from_data.pkl --data_path ../resources/saveddata/data_validation.h5  --plots CoverageFraction"
   ]
  },
  {
   "cell_type": "markdown",
   "metadata": {},
   "source": [
    "## Using a simulator\n",
    "\n",
    "In order to run some of the metrics and plots (including `LC2ST`, `PPC` and `PriorPC`), you must supply a simulator. \n",
    "If you do not supply a simulator and try to run these options in CLI a warning will be raised and the other metrics/plots will run as expected. \n",
    "In standalone mode, when trying to initialize metrics and plots that require a simulator, without a simulator, `LookupTableSimulator` will be used instead, which may cause inaccuracies. \n",
    "\n",
    "Simulators are all subclasses of `data.Simulator`, and need to be registered with `register_simulator` to use during runtime. \n",
    "`data.Simulator` is an abstract class that requires a `generate_context` \n",
    "(which takes a number of samples and returns a random sample of context the simulator uses to produce results. \n",
    "This can either be loaded in from a specific file, or a random distribution.) \n",
    "and `simulate` method \n",
    "(which takes a context and parameters of the model )\n",
    "See below for an example with typing, simulating a 2d case where the model being fit is a linear model. \n",
    "\n",
    "Please note that the simulator file **must** be saved a python file, so it can be imported and used by metrics and plots. If you write you simulator in a notebook, it cannot be registered. Using the line magic `%%writefle your-sim-here.py`, you can save it from your notebook. "
   ]
  },
  {
   "cell_type": "code",
   "execution_count": null,
   "metadata": {},
   "outputs": [],
   "source": [
    "%%writefile my_simulator.py \n",
    "\n",
    "from deepdiagnostics.utils.simulator_utils import register_simulator\n",
    "from deepdiagnostics.data.simulator import Simulator\n",
    "import numpy as np \n",
    "\n",
    "class MySimulator(Simulator): \n",
    "    def generate_context(self, n_samples: int=101) -> np.ndarray:\n",
    "        return np.linspace(0, 100, n_samples)\n",
    "    \n",
    "    def simulate(self, theta: np.ndarray, context_samples: np.ndarray) -> np.ndarray:\n",
    "        thetas = np.atleast_2d(theta)\n",
    "        if thetas.shape[1] != 2:\n",
    "            raise ValueError(\"Input tensor must have shape (n, 2) where n is the number of parameter sets.\")\n",
    "\n",
    "        if thetas.shape[0] == 1:\n",
    "            # If there's only one set of parameters, extract them directly\n",
    "            m, b = thetas[0, 0], thetas[0, 1]\n",
    "        else:\n",
    "            # If there are multiple sets of parameters, extract them for each row\n",
    "            m, b = thetas[:, 0], thetas[:, 1]\n",
    "        rs = np.random.RandomState()\n",
    "        sigma = 1\n",
    "        epsilon = rs.normal(loc=0, scale=sigma, size=(len(context_samples), thetas.shape[0]))\n",
    "        \n",
    "        # Initialize an empty array to store the results for each set of parameters\n",
    "        y = np.zeros((len(context_samples), thetas.shape[0]))\n",
    "        for i in range(thetas.shape[0]):\n",
    "            m, b = thetas[i, 0], thetas[i, 1]\n",
    "            y[:, i] = m * context_samples + b + epsilon[:, i]\n",
    "        return y.T"
   ]
  },
  {
   "cell_type": "code",
   "execution_count": null,
   "metadata": {},
   "outputs": [],
   "source": [
    "# Just running the file to make sure we're not either missing imports or have a syntax error\n",
    "! python3 my_simulator.py"
   ]
  },
  {
   "cell_type": "code",
   "execution_count": null,
   "metadata": {},
   "outputs": [],
   "source": [
    "from my_simulator import MySimulator\n",
    "\n",
    "register_simulator(\"MySimulator\", MySimulator) \n",
    "# We are registering without having a config set ahead of time, so it may raise a warning. This is fine!\n",
    "# Only reason we'd want to use a config ahead of time is if we were running this in a cluster \n",
    "# And had specific requirements where we can put files \n",
    "# In which case we'd change the \"common\":{\"sim_location\": <path>} field"
   ]
  },
  {
   "cell_type": "code",
   "execution_count": null,
   "metadata": {},
   "outputs": [],
   "source": [
    "\n",
    "my_config = {\n",
    "    \"model\": {\"model_path\": \"../resources/savedmodels/sbi/sbi_linear_from_data.pkl\"}, \n",
    "    \"data\": {\n",
    "        \"data_path\": \"../resources/saveddata/data_test.h5\", \n",
    "        \"simulator\": \"MySimulator\"}, \n",
    "    \"metrics_common\": {\n",
    "        \"use_progress_bar\": True,\n",
    "        \"samples_per_inference\": 100,\n",
    "        \"percentiles\": [75, 85, 95],\n",
    "        \"number_simulations\": 10}, \n",
    "    \"metrics\": {},\n",
    "    \"plots\":{}\n",
    "}\n",
    "with open(\"./my_config.yaml\", \"w\") as f: \n",
    "    yaml.safe_dump(my_config, f)"
   ]
  },
  {
   "cell_type": "code",
   "execution_count": null,
   "metadata": {},
   "outputs": [],
   "source": [
    "# Because nothing is set in the metrics or plots in the above config, nothing will run. \n",
    "! diagnose --config ./my_config.yaml"
   ]
  },
  {
   "cell_type": "code",
   "execution_count": null,
   "metadata": {},
   "outputs": [],
   "source": [
    "# We can do a similar thing by passing specific kwargs \n",
    "# Here we're just calculating the coverage fraction \n",
    "! diagnose --model_path ../resources/savedmodels/sbi/sbi_linear_from_data.pkl --data_path ../resources/saveddata/data_test.h5 --simulator MySimulator  --plots CDFParityPlot"
   ]
  },
  {
   "cell_type": "markdown",
   "metadata": {},
   "source": [
    "This produces a image of the coverage fraction from our model and data, shown below. "
   ]
  },
  {
   "cell_type": "code",
   "execution_count": null,
   "metadata": {},
   "outputs": [],
   "source": [
    "import os\n",
    "import matplotlib.pyplot as plt\n",
    "\n",
    "for plot in os.listdir(\"./DeepDiagnosticsResources/results/\"):\n",
    "    if not plot.endswith('.png'):\n",
    "        continue\n",
    "    print(f\"Showing saved plot: {plot}\")\n",
    "    plot_path = \"./DeepDiagnosticsResources/results/\" + plot\n",
    "    plt.imshow(plt.imread(plot_path))\n",
    "    plt.axis('off')\n",
    "    plt.show()"
   ]
  },
  {
   "cell_type": "markdown",
   "metadata": {},
   "source": [
    "We can do a similar thing with metrics, or with plot metrics or plots. "
   ]
  },
  {
   "cell_type": "code",
   "execution_count": null,
   "metadata": {},
   "outputs": [],
   "source": [
    "! diagnose --model_path ../resources/savedmodels/sbi/sbi_linear_from_data.pkl --data_path ../resources/saveddata/data_test.h5 --simulator MySimulator  --metrics CoverageFraction"
   ]
  },
  {
   "cell_type": "markdown",
   "metadata": {},
   "source": [
    "## Using standalone functions \n",
    "\n",
    "DeepDiagnostics, if you have a configuration file set, can also be used with just the functions. Below is a list of all the functions and examples of their use. "
   ]
  },
  {
   "cell_type": "code",
   "execution_count": null,
   "metadata": {},
   "outputs": [],
   "source": [
    "# All metrics require a model and data \n",
    "Config(\"./my_config.yaml\")\n",
    "\n",
    "model = models.SBIModel(\"../resources/savedmodels/sbi/sbi_linear_from_data.pkl\")\n",
    "data = data_modules.H5Data(\"../resources/saveddata/data_test.h5\", simulator=\"MySimulator\")"
   ]
  },
  {
   "cell_type": "code",
   "execution_count": null,
   "metadata": {},
   "outputs": [],
   "source": [
    "plot = CDFRanks(model, data, save=False, show=True, run_id=\"my_run_42\")()"
   ]
  },
  {
   "cell_type": "code",
   "execution_count": null,
   "metadata": {},
   "outputs": [],
   "source": [
    "plot = CoverageFraction(model, data, show=True, save=False, run_id=\"my_run_42\")()"
   ]
  },
  {
   "cell_type": "code",
   "execution_count": null,
   "metadata": {},
   "outputs": [],
   "source": [
    "Ranks(model, data, show=True, save=False, run_id=\"my_run_42\")()"
   ]
  },
  {
   "cell_type": "code",
   "execution_count": null,
   "metadata": {},
   "outputs": [],
   "source": [
    "TARP(model, data, save=False, show=True, run_id=\"my_run_42\")(\n",
    "    coverage_sigma=5, bootstrap_calculation=True\n",
    ")"
   ]
  },
  {
   "cell_type": "markdown",
   "metadata": {},
   "source": [
    "## Rerunning Plots\n",
    "\n",
    "If you want to return plots you have already made and saved, instead of redoing the entire calculation, you can load an intermediate file with all the calculations needed for the plot. \n",
    "The file is saved with a run ID in your \"results\" folder, so if you set a file called `{run_id}_diagnostic_metrics.h5`. \n",
    "Supplying this path to the `plot` method of an plot will reload that data and plot it again. "
   ]
  },
  {
   "cell_type": "code",
   "execution_count": null,
   "metadata": {},
   "outputs": [],
   "source": [
    "from deepdiagnostics.plots import Parity\n",
    "\n",
    "run_id = \"my_run_42\"\n",
    "out_path = \"./DeepDiagnosticsResources/results/\"\n",
    "\n",
    "Parity(\n",
    "\tmodel, data, run_id, save=True, show=False,\n",
    "\tout_dir=out_path,\n",
    "\tparameter_names=[\"$\\theta_1$\", \"$\\theta_2$\"], \n",
    "\tparameter_colors=[\"#5ec962\", \"#fde725\"]\n",
    ")(include_residual=True)\n",
    "calculation_path = os.path.join(\n",
    "\tout_path, f\"{run_id}_diagnostic_metrics.h5\")\n",
    "\n",
    "# Change the parameter names and colors, don't rerun metrics\n",
    "# Return the figure and axes for further customization\n",
    "figure, axes = Parity(\n",
    "\tmodel=None, data=None, run_id=run_id, save=False, show=False,\n",
    "\tout_dir=out_path,\n",
    "\tparameter_names=[\"Parameter 1\", \"Parameter 2\"],\n",
    "\tparameter_colors=[\"#1f77b4\", \"#ff7f0e\"]\n",
    ").plot(\n",
    "\tdata_display=calculation_path,\n",
    "\tinclude_residual=True)\n",
    "\n"
   ]
  },
  {
   "cell_type": "markdown",
   "metadata": {},
   "source": [
    "## Replicating with command line interface\n",
    "\n",
    "To do the same thing with the CLI, just supply a config file with the metrics listed"
   ]
  },
  {
   "cell_type": "code",
   "execution_count": null,
   "metadata": {},
   "outputs": [],
   "source": [
    "my_config = {\n",
    "    \"model\": {\"model_path\": \"../resources/savedmodels/sbi/sbi_linear_from_data.pkl\"}, \n",
    "    \"data\": {\n",
    "        \"data_path\": \"../resources/saveddata/data_validation.h5\", \n",
    "        \"simulator\": \"MySimulator\"}, \n",
    "    \"metrics_common\": {\n",
    "        \"use_progress_bar\": True,\n",
    "        \"samples_per_inference\": 1000,\n",
    "        \"percentiles\": [75, 85, 95],\n",
    "        \"number_simulations\": 50}, \n",
    "    \"metrics\": {},\n",
    "    \"plots\":{\n",
    "        \"LC2ST\":{}, \n",
    "        \"TARP\":{\"coverage_sigma\":5, \"bootstrap_calculation\":True}, \n",
    "        \"CoverageFraction\":{}, \n",
    "    }\n",
    "}\n",
    "with open(\"./my_full_config.yaml\", \"w\") as f: \n",
    "    yaml.safe_dump(my_config, f)"
   ]
  },
  {
   "cell_type": "code",
   "execution_count": null,
   "metadata": {},
   "outputs": [],
   "source": [
    "! diagnose --config ./my_full_config.yaml"
   ]
  },
  {
   "cell_type": "code",
   "execution_count": null,
   "metadata": {},
   "outputs": [],
   "source": [
    "import os \n",
    "os.listdir(\"./DeepDiagnosticsResources/results\")"
   ]
  }
 ],
 "metadata": {
  "kernelspec": {
   "display_name": "deepdiagnostics-THlyEMaS-py3.11",
   "language": "python",
   "name": "python3"
  },
  "language_info": {
   "codemirror_mode": {
    "name": "ipython",
    "version": 3
   },
   "file_extension": ".py",
   "mimetype": "text/x-python",
   "name": "python",
   "nbconvert_exporter": "python",
   "pygments_lexer": "ipython3",
   "version": "3.11.13"
  }
 },
 "nbformat": 4,
 "nbformat_minor": 2
}
